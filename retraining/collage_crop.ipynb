{
 "cells": [
  {
   "cell_type": "code",
   "execution_count": 2,
   "metadata": {
    "collapsed": true
   },
   "outputs": [],
   "source": [
    "from skimage import io\n",
    "import os\n",
    "\n",
    "img_folder = r\"\\\\10.99.68.53\\Digital pathology image lib\\_Image libraries for training\\2023-05-09 Published HE Nuclei Datasets\\20x Native\\JHU\\images\"\n",
    "clg_folder = r\"\\\\10.99.68.53\\Digital pathology image lib\\_Image libraries for training\\2023-05-09 Published HE Nuclei Datasets\\StarDist Segmentation Models\\Collage\"\n",
    "crop_folder = r\"\\\\10.99.68.53\\Digital pathology image lib\\_Image libraries for training\\2023-05-09 Published HE Nuclei Datasets\\StarDist Segmentation Models\\Collage\\Cropped\"\n",
    "\n",
    "tilenames = ['FallopianTube_test_1.tif', 'Pancreas_test_3.tif', 'Skin_test_3.tif']\n",
    "for tilename in tilenames:\n",
    "    img = io.imread(os.path.join(img_folder, tilename))[128: 512-128, 128: 512-128]\n",
    "    before = io.imread(os.path.join(clg_folder, f'before_{tilename}'))[128: 512-128, 128: 512-128]\n",
    "    after = io.imread(os.path.join(clg_folder, f'after_{tilename}'))[128: 512-128, 128: 512-128]\n",
    "    io.imsave(os.path.join(crop_folder, tilename), img)\n",
    "    io.imsave(os.path.join(crop_folder, f'before_{tilename}'), before)\n",
    "    io.imsave(os.path.join(crop_folder, f'after_{tilename}'), after)\n"
   ]
  },
  {
   "cell_type": "code",
   "execution_count": 2,
   "outputs": [],
   "source": [],
   "metadata": {
    "collapsed": false
   }
  }
 ],
 "metadata": {
  "kernelspec": {
   "display_name": "Python 3",
   "language": "python",
   "name": "python3"
  },
  "language_info": {
   "codemirror_mode": {
    "name": "ipython",
    "version": 2
   },
   "file_extension": ".py",
   "mimetype": "text/x-python",
   "name": "python",
   "nbconvert_exporter": "python",
   "pygments_lexer": "ipython2",
   "version": "2.7.6"
  }
 },
 "nbformat": 4,
 "nbformat_minor": 0
}
