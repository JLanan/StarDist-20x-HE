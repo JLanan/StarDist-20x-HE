{
 "cells": [
  {
   "cell_type": "code",
   "execution_count": 85,
   "id": "initial_id",
   "metadata": {
    "collapsed": true,
    "ExecuteTime": {
     "end_time": "2024-05-06T02:43:06.964622Z",
     "start_time": "2024-05-06T02:43:06.950229Z"
    }
   },
   "outputs": [],
   "source": [
    "import pandas as pd\n",
    "import os\n",
    "import matplotlib.pyplot as plt\n",
    "import seaborn as sns\n",
    "import numpy as np"
   ]
  },
  {
   "cell_type": "code",
   "execution_count": null,
   "outputs": [],
   "source": [
    "folder = r\"\\\\10.99.68.53\\Digital pathology image lib\\_Image libraries for training\\2023-05-09 Published HE Nuclei Datasets\\StarDist Segmentation Models\"\n",
    "df = pd.read_csv(os.path.join(folder, \"retraining.csv\"))\n",
    "df"
   ],
   "metadata": {
    "collapsed": false,
    "pycharm": {
     "name": "#%%\n"
    }
   }
  },
  {
   "cell_type": "code",
   "execution_count": null,
   "outputs": [],
   "source": [
    "# Plot using Seaborn\n",
    "plt.figure(figsize=(10, 6))\n",
    "sns.lineplot(data=df, x='Epochs', y='Panoptic Quality', hue='Start', style='Tissue', markers=True)\n",
    "plt.title('Series Plot')\n",
    "plt.xlabel('Epochs')\n",
    "plt.ylabel('PQ')\n",
    "plt.legend(title='Start')\n",
    "plt.show()"
   ],
   "metadata": {
    "collapsed": false,
    "pycharm": {
     "name": "#%%\n"
    }
   }
  },
  {
   "cell_type": "code",
   "execution_count": null,
   "outputs": [],
   "source": [
    "g = sns.FacetGrid(df, col=\"Tissue\", hue=\"Start\", col_wrap=3, height=4)\n",
    "g.map(sns.lineplot, \"Epochs\", \"Panoptic Quality\")\n",
    "g.set_titles(\"{col_name}\")\n",
    "g.set_axis_labels(\"Epochs\", \"PQ\")\n",
    "g.add_legend(title=\"Start\")\n",
    "plt.show()"
   ],
   "metadata": {
    "collapsed": false,
    "pycharm": {
     "name": "#%%\n"
    }
   }
  },
  {
   "cell_type": "code",
   "execution_count": null,
   "outputs": [],
   "source": [
    "df['Epochs'] = df['Epochs'].replace(0, 0.8)\n",
    "\n",
    "sns.set_style(\"darkgrid\")\n",
    "sns.set_theme(font_scale=1.25)\n",
    "custom_palette = {'SD_HE_20x': 'red', '2D_versatile_he': 'black', 'Random': 'gray'}\n",
    "\n",
    "g = sns.FacetGrid(df, col=\"Tissue\", hue=\"Start\", col_wrap=3, height=4, palette=custom_palette)\n",
    "g.map(sns.lineplot, \"Epochs\", \"Panoptic Quality\", linewidth=2.5)\n",
    "g.set_titles(\"{col_name}\")\n",
    "g.set_axis_labels(\"Epochs\", \"Panoptic Quality  (τ=0.5)\")\n",
    "for i, ax in enumerate(g.axes.flat):\n",
    "    ax.set_xscale('log')\n",
    "    ax.xaxis.set_major_formatter(plt.FuncFormatter(lambda x, _: '{:g}'.format(x)))\n",
    "    ax.set_xlim(left=0.6)\n",
    "    if i == 0 or i == 2:\n",
    "        ax.set_xlabel(None)\n",
    "g.axes[1].legend(title=\"Starting SD Model\", bbox_to_anchor=(1, 0.0), loc='lower right')\n",
    "plt.savefig(os.path.join(folder, 'retrain_charts.png'), bbox_inches='tight')\n",
    "plt.show()"
   ],
   "metadata": {
    "collapsed": false,
    "pycharm": {
     "name": "#%%\n"
    }
   }
  }
 ],
 "metadata": {
  "kernelspec": {
   "display_name": "Python 3",
   "language": "python",
   "name": "python3"
  },
  "language_info": {
   "codemirror_mode": {
    "name": "ipython",
    "version": 2
   },
   "file_extension": ".py",
   "mimetype": "text/x-python",
   "name": "python",
   "nbconvert_exporter": "python",
   "pygments_lexer": "ipython2",
   "version": "2.7.6"
  }
 },
 "nbformat": 4,
 "nbformat_minor": 5
}