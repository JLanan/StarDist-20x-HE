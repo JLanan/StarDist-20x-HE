{
 "cells": [
  {
   "cell_type": "code",
   "execution_count": null,
   "id": "initial_id",
   "metadata": {
    "collapsed": true,
    "ExecuteTime": {
     "end_time": "2024-05-06T09:53:56.256648Z",
     "start_time": "2024-05-06T09:53:56.192646Z"
    },
    "pycharm": {
     "name": "#%%\n",
     "is_executing": true
    }
   },
   "outputs": [],
   "source": [
    "# Input image, SD_HE_20x Overlay, Retrain Overlay\n",
    "from my_utils import stardisting as sd\n",
    "\n",
    "import numpy as np\n",
    "import matplotlib.pyplot as plt\n",
    "from skimage import io\n",
    "from skimage import measure\n",
    "from tqdm import tqdm\n",
    "\n",
    "model_path = r\"\\\\10.99.68.53\\Digital pathology image lib\\_Image libraries for training\\2023-05-09 Published HE Nuclei Datasets\\StarDist Segmentation Models\\SD_HE_20x\"\n",
    "img_path = r\"\\\\10.99.68.53\\Digital pathology image lib\\_Image libraries for training\\2023-05-09 Published HE Nuclei Datasets\\20x Native\\JHU\\images\\FallopianTube_test_4.tif\"\n",
    "gt_path = r\"\\\\10.99.68.53\\Digital pathology image lib\\_Image libraries for training\\2023-05-09 Published HE Nuclei Datasets\\20x Native\\JHU\\masks\\FallopianTube_test_4.tif\"\n",
    "output_folder = r\"\\\\10.99.68.53\\Digital pathology image lib\\_Image libraries for training\\2023-05-09 Published HE Nuclei Datasets\\StarDist Segmentation Models\\Collage\\tau_demo\"\n",
    "model = sd.load_model(model_path=model_path)"
   ]
  },
  {
   "cell_type": "code",
   "execution_count": null,
   "outputs": [],
   "source": [
    "img = io.imread(img_path)\n",
    "gt = io.imread(gt_path)\n",
    "pred = model.predict_instances(img / 255)[0]"
   ],
   "metadata": {
    "collapsed": false,
    "pycharm": {
     "name": "#%%\n"
    }
   }
  },
  {
   "cell_type": "code",
   "outputs": [],
   "source": [
    "def find_centroids(mask: np.ndarray) -> list[list[int, int]]:\n",
    "    # Finds centroid coordinates as weighted averages of binary pixel values\n",
    "    centroids = []\n",
    "    for object_id in np.unique(mask)[1:]:\n",
    "        binary_mask = (mask == object_id)\n",
    "        x_coords, y_coords = np.where(binary_mask)\n",
    "        x, y = int(np.round(np.mean(x_coords))), int(np.round(np.mean(y_coords)))\n",
    "        centroids.append([x, y])\n",
    "    return centroids\n",
    "\n",
    "def calc_iou(array1: np.ndarray | bool, array2: np.ndarray | bool) -> float:\n",
    "    # Compares pixel-to-pixel coverage of any pixel greater than 0\n",
    "    intersection = np.logical_and(array1, array2)\n",
    "    union = np.logical_or(array1, array2)\n",
    "    intersection_area = np.sum(intersection)\n",
    "    union_area = np.sum(union)\n",
    "    return intersection_area / union_area\n",
    "\n",
    "def fetch_tps_fps(gt, pred, pred_centroids, tau):\n",
    "    tps, fps = [], []\n",
    "    for centroid in pred_centroids:\n",
    "        x, y = centroid[0], centroid[1]\n",
    "        gt_val_at_pred_centroid = gt[x][y]\n",
    "        pred_val_at_pred_centroid = pred[x][y]\n",
    "        if gt_val_at_pred_centroid:\n",
    "            binary_mask_gt = (gt == gt_val_at_pred_centroid)\n",
    "            binary_mask_pred = (pred == pred_val_at_pred_centroid)\n",
    "            iou = calc_iou(binary_mask_gt, binary_mask_pred)\n",
    "            if iou >= tau:\n",
    "                gt[gt == gt_val_at_pred_centroid] = 0\n",
    "                tps.append(pred_val_at_pred_centroid)\n",
    "            else:\n",
    "                fps.append(pred_val_at_pred_centroid)\n",
    "        else:\n",
    "            fps.append(pred_val_at_pred_centroid)\n",
    "    return tps, fps, gt\n",
    "\n",
    "def fetch_fns(gt, pred, gt_centroids, tau):\n",
    "    fns = []\n",
    "    for centroid in gt_centroids:\n",
    "        x, y = centroid[0], centroid[1]\n",
    "        pred_val_at_gt_centroid = pred[x][y]\n",
    "        gt_val_at_gt_centroid = gt[x][y]\n",
    "        if pred_val_at_gt_centroid:\n",
    "            binary_mask_gt = (gt == gt_val_at_gt_centroid)\n",
    "            binary_mask_pred = (pred == pred_val_at_gt_centroid)\n",
    "            iou = calc_iou(binary_mask_gt, binary_mask_pred)\n",
    "            if iou < tau:\n",
    "                fns.append(gt_val_at_gt_centroid)\n",
    "        else:\n",
    "            fns.append(gt_val_at_gt_centroid)\n",
    "    return fns\n",
    "\n",
    "def compare_and_fetch_ids(gt, pred, tau):\n",
    "    pred_centroids = find_centroids(pred)\n",
    "    tps, fps, gt = fetch_tps_fps(gt, pred, pred_centroids, tau)\n",
    "    gt_centroids = find_centroids(gt)\n",
    "    fns = fetch_fns(gt, pred, gt_centroids, tau)\n",
    "    return tps, fps, fns\n",
    "\n",
    "def draw_contours(tissue, mask, rgb, object_ids):\n",
    "    image, mask = np.copy(tissue), np.copy(mask)\n",
    "    contour_set = []\n",
    "    # Loop through each object id and record contour coordinates\n",
    "    for index in object_ids:\n",
    "        bin_thresh_mask = np.zeros_like(mask)  # Black backdrop\n",
    "        indices = np.where(mask == index)\n",
    "        bin_thresh_mask[indices] = 255  # Filling in single object in with white\n",
    "        contour_set.append(measure.find_contours(bin_thresh_mask))\n",
    "    # Loop through all contour coordinates and color them in on the main image\n",
    "    for contours in contour_set:\n",
    "        for contour in contours:\n",
    "            image[np.round(contour[:, 0]).astype(int), np.round(contour[:, 1]).astype(int)] = rgb\n",
    "    return image\n",
    "\n",
    "def make_overlay(img, gt, pred, tau):\n",
    "    # Fetch IDs for TP, FP, FN. Draw FN, then FP, then TP\n",
    "    ids_tp, ids_fp, ids_fn = compare_and_fetch_ids(gt, pred, tau)\n",
    "\n",
    "    # for some reason some 0 zero IDs make it through\n",
    "    ids_fn = [x for x in ids_fn if x != 0]\n",
    "\n",
    "    img = draw_contours(img, gt, rgb=[0, 50, 115], object_ids=ids_fn)\n",
    "    img = draw_contours(img, pred, rgb=[100, 0, 0], object_ids=ids_fp)\n",
    "    img = draw_contours(img, pred, rgb=[0, 100, 0], object_ids=ids_tp)\n",
    "\n",
    "    tp_bool = np.isin(pred, ids_tp)\n",
    "    fp_bool = np.isin(pred, ids_fp)\n",
    "    fn_bool = np.isin(gt, ids_fn)\n",
    "    lbl = np.zeros(img.shape, dtype=np.uint8)\n",
    "\n",
    "    lbl[fn_bool] = 30  # order matters\n",
    "    lbl[fp_bool] = 20\n",
    "    lbl[tp_bool] = 10\n",
    "\n",
    "    fn_rgb_bool = (lbl[:, :, :] == 30)\n",
    "    fp_rgb_bool = (lbl[:, :, :] == 20)\n",
    "    tp_rgb_bool = (lbl[:, :, :] == 10)\n",
    "    fns = np.all(fn_rgb_bool == True, axis=-1)\n",
    "    fps = np.all(fp_rgb_bool == True, axis=-1)\n",
    "    tps = np.all(tp_rgb_bool == True, axis=-1)\n",
    "    lbl[fns] = [0, 100, 230]\n",
    "    lbl[fps] = [200, 0, 0]\n",
    "    lbl[tps] = [0, 200, 0]\n",
    "\n",
    "    overlay = np.clip((img + 1.75 * lbl) / 1.75, 0, 255).astype(np.uint8)\n",
    "    return overlay\n"
   ],
   "metadata": {
    "collapsed": false,
    "ExecuteTime": {
     "end_time": "2024-05-06T09:53:56.272058Z",
     "start_time": "2024-05-06T09:53:56.257680Z"
    },
    "pycharm": {
     "name": "#%%\n"
    }
   },
   "id": "33c793cfa06d2367",
   "execution_count": 57
  },
  {
   "cell_type": "code",
   "execution_count": null,
   "outputs": [],
   "source": [
    "taus = [0.1, 0.3, 0.5, 0.7, 0.9]\n",
    "overlays = [make_overlay(img, gt, pred, tau) for tau in tqdm(taus)]"
   ],
   "metadata": {
    "collapsed": false,
    "pycharm": {
     "name": "#%%\n"
    }
   }
  },
  {
   "cell_type": "code",
   "execution_count": 46,
   "outputs": [],
   "source": [
    "plt.imshow(overlays[0])\n",
    "plt.axis('off')\n",
    "plt.show()"
   ],
   "metadata": {
    "collapsed": false,
    "pycharm": {
     "name": "#%%\n"
    }
   }
  }
 ],
 "metadata": {
  "kernelspec": {
   "display_name": "Python 3",
   "language": "python",
   "name": "python3"
  },
  "language_info": {
   "codemirror_mode": {
    "name": "ipython",
    "version": 2
   },
   "file_extension": ".py",
   "mimetype": "text/x-python",
   "name": "python",
   "nbconvert_exporter": "python",
   "pygments_lexer": "ipython2",
   "version": "2.7.6"
  }
 },
 "nbformat": 4,
 "nbformat_minor": 5
}