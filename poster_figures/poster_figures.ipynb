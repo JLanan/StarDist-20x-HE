{
 "cells": [
  {
   "cell_type": "code",
   "execution_count": 1,
   "outputs": [],
   "source": [
    "import numpy as np\n",
    "from skimage.io import imsave\n",
    "import os\n",
    "OPENSLIDE_PATH = r\"C:\\Users\\labuser\\Documents\\GitHub\\StarDist-20x-HE\\openslide-win64-20230414\\bin\"\n",
    "with os.add_dll_directory(OPENSLIDE_PATH):\n",
    "    from openslide import OpenSlide"
   ],
   "metadata": {
    "collapsed": false,
    "pycharm": {
     "name": "#%%\n",
     "is_executing": true
    },
    "ExecuteTime": {
     "end_time": "2024-05-13T06:20:23.579027Z",
     "start_time": "2024-05-13T06:20:22.908486Z"
    }
   }
  },
  {
   "cell_type": "code",
   "execution_count": 2,
   "outputs": [],
   "source": [
    "# Grab downsample that is at least 1000 to 5000 pixels across of Fallopian Tube\n",
    "wsi_path = r\"\\\\10.99.68.53\\Digital pathology image lib\\JHU\\Ie-Ming Shih\\lymphocytes\\WSIs\\FTE411.ndpi\"\n",
    "wsi = OpenSlide(wsi_path)"
   ],
   "metadata": {
    "collapsed": false,
    "pycharm": {
     "name": "#%%\n"
    },
    "ExecuteTime": {
     "end_time": "2024-05-13T06:20:53.399225Z",
     "start_time": "2024-05-13T06:20:25.802281Z"
    }
   }
  },
  {
   "cell_type": "code",
   "outputs": [
    {
     "data": {
      "text/plain": "((129024, 107520),\n (64512, 53760),\n (32256, 26880),\n (16128, 13440),\n (8064, 6720),\n (4032, 3360),\n (2016, 1680),\n (1008, 840),\n (504, 420),\n (252, 210),\n (126, 105))"
     },
     "execution_count": 3,
     "metadata": {},
     "output_type": "execute_result"
    }
   ],
   "source": [
    "wsi.level_dimensions"
   ],
   "metadata": {
    "collapsed": false,
    "ExecuteTime": {
     "end_time": "2024-05-13T06:21:10.744932Z",
     "start_time": "2024-05-13T06:21:10.736243Z"
    }
   },
   "execution_count": 3
  },
  {
   "cell_type": "code",
   "outputs": [],
   "source": [
    "img = wsi.read_region((0, 0), 6, wsi.level_dimensions[6])\n",
    "img = np.array(img.convert('RGB'))"
   ],
   "metadata": {
    "collapsed": false,
    "ExecuteTime": {
     "end_time": "2024-05-13T06:24:15.075020Z",
     "start_time": "2024-05-13T06:24:14.766584Z"
    }
   },
   "execution_count": 4
  },
  {
   "cell_type": "code",
   "outputs": [
    {
     "data": {
      "text/plain": "(1680, 2016, 3)"
     },
     "execution_count": 5,
     "metadata": {},
     "output_type": "execute_result"
    }
   ],
   "source": [
    "img.shape"
   ],
   "metadata": {
    "collapsed": false,
    "ExecuteTime": {
     "end_time": "2024-05-13T06:24:18.412552Z",
     "start_time": "2024-05-13T06:24:18.405344Z"
    }
   },
   "execution_count": 5
  },
  {
   "cell_type": "code",
   "outputs": [],
   "source": [
    "outpath = r\"\\\\10.99.68.31\\PW Cloud Exp Documents\\Research Projects\\PRJ-23-12-01 Nuclei segmentation in HE at 20x using starDist\\poster prep\\wsi_FT.tif\"\n",
    "imsave(outpath, img)"
   ],
   "metadata": {
    "collapsed": false,
    "ExecuteTime": {
     "end_time": "2024-05-13T06:26:18.697727Z",
     "start_time": "2024-05-13T06:26:18.500329Z"
    }
   },
   "execution_count": 6
  },
  {
   "cell_type": "code",
   "outputs": [],
   "source": [
    "from my_utils import wsi_processing as wsip\n",
    "from my_utils import tile_processing as tp\n",
    "\n",
    "from skimage.io import imsave\n",
    "\n",
    "# wsi_path = r\"\\\\10.99.68.53\\Digital pathology image lib\\JHU\\Ie-Ming Shih\\lymphocytes\\WSIs\\FTE411.ndpi\"\n",
    "wsi_path = r\"\\\\10.99.68.53\\Digital pathology image lib\\JHU\\Laura Wood\\Raw image Pancreas SenPanc001\\raw images\\OTS-22-15061-001 - 2022-12-19 21.46.09.ndpi\"\n",
    "# wsi_path = r\"\\\\10.99.68.53\\Digital pathology image lib\\HubMap Skin TMC project\\HM-SR1-Skin-P010-B1-SB01\\raw_images\\D010_B013_SB001_S001.ndpi\"\n",
    "\n",
    "# z_label_path = r\"\\\\10.99.68.53\\Digital pathology image lib\\_Image libraries for training\\2023-05-09 Published HE Nuclei Datasets\\WSI Results\\SD_HE_20x\\Fallopian_Tube\\label.zarr\"\n",
    "z_label_path = r\"\\\\10.99.68.53\\Digital pathology image lib\\_Image libraries for training\\2023-05-09 Published HE Nuclei Datasets\\WSI Results\\SD_HE_20x\\Pancreas\\label.zarr\"\n",
    "# z_label_path = r\"\\\\10.99.68.53\\Digital pathology image lib\\_Image libraries for training\\2023-05-09 Published HE Nuclei Datasets\\WSI Results\\SD_HE_20x\\Skin\\label.zarr\"\n",
    "\n",
    "# img_out_path = r\"\\\\10.99.68.53\\Digital pathology image lib\\_Image libraries for training\\2023-05-09 Published HE Nuclei Datasets\\WSI Results\\SD_HE_20x\\Fallopian_Tube\\overlay.tif\"\n",
    "img_out_path = r\"\\\\10.99.68.53\\Digital pathology image lib\\_Image libraries for training\\2023-05-09 Published HE Nuclei Datasets\\WSI Results\\SD_HE_20x\\Pancreas\\overlay.tif\"\n",
    "# gif_out_path = r\"\\\\10.99.68.53\\Digital pathology image lib\\_Image libraries for training\\2023-05-09 Published HE Nuclei Datasets\\WSI Results\\SD_HE_20x\\Skin\\overlay2.gif\"\n",
    "\n",
    "\n",
    "x_mu_cp, y_mu_cp = 29400, 15850  # center point coordinates (horizontal, vertical) of interest in microns\n",
    "width, height = 1500, 900  # pixel dimension of output image\n",
    "rgb = [255, 255, 0]  # outline color\n",
    "\n",
    "extractions = wsip.RegionCoExtractor(wsi_path, z_label_path, x_mu_cp, y_mu_cp, width, height)\n",
    "overlayer = tp.TileOverLayer(extractions.wsi_region, extractions.z_region, rgb)\n",
    "overlay = overlayer.frames[1]\n",
    "imsave(img_out_path, overlay)"
   ],
   "metadata": {
    "collapsed": false,
    "ExecuteTime": {
     "end_time": "2024-05-13T15:54:20.116156Z",
     "start_time": "2024-05-13T15:53:57.869265Z"
    }
   },
   "execution_count": 12
  },
  {
   "cell_type": "code",
   "outputs": [],
   "source": [],
   "metadata": {
    "collapsed": false
   }
  }
 ],
 "metadata": {
  "kernelspec": {
   "display_name": "Python 3",
   "language": "python",
   "name": "python3"
  },
  "language_info": {
   "codemirror_mode": {
    "name": "ipython",
    "version": 2
   },
   "file_extension": ".py",
   "mimetype": "text/x-python",
   "name": "python",
   "nbconvert_exporter": "python",
   "pygments_lexer": "ipython2",
   "version": "2.7.6"
  }
 },
 "nbformat": 4,
 "nbformat_minor": 0
}
