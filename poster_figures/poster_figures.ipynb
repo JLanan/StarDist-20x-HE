{
 "cells": [
  {
   "cell_type": "code",
   "execution_count": null,
   "outputs": [],
   "source": [
    "import numpy as np\n",
    "from skimage.io import imsave\n",
    "import os\n",
    "OPENSLIDE_PATH = r\"C:\\Users\\labuser\\Documents\\GitHub\\StarDist-20x-HE\\openslide-win64-20230414\\bin\"\n",
    "with os.add_dll_directory(OPENSLIDE_PATH):\n",
    "    from openslide import OpenSlide"
   ],
   "metadata": {
    "collapsed": false,
    "pycharm": {
     "name": "#%%\n",
     "is_executing": true
    }
   }
  },
  {
   "cell_type": "code",
   "execution_count": null,
   "outputs": [],
   "source": [
    "# Grab downsample that is at least 1000 to 5000 pixels across of Fallopian Tube\n",
    "wsi_path = r\"\\\\10.99.68.53\\Digital pathology image lib\\JHU\\Ie-Ming Shih\\lymphocytes\\WSIs\\FTE411.ndpi\"\n",
    "wsi = OpenSlide(wsi_path)"
   ],
   "metadata": {
    "collapsed": false,
    "pycharm": {
     "name": "#%%\n"
    }
   }
  }
 ],
 "metadata": {
  "kernelspec": {
   "display_name": "Python 3",
   "language": "python",
   "name": "python3"
  },
  "language_info": {
   "codemirror_mode": {
    "name": "ipython",
    "version": 2
   },
   "file_extension": ".py",
   "mimetype": "text/x-python",
   "name": "python",
   "nbconvert_exporter": "python",
   "pygments_lexer": "ipython2",
   "version": "2.7.6"
  }
 },
 "nbformat": 4,
 "nbformat_minor": 0
}