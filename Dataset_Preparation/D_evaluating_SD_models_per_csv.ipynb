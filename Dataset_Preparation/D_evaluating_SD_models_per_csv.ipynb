{
 "cells": [
  {
   "cell_type": "code",
   "execution_count": 4,
   "id": "initial_id",
   "metadata": {
    "collapsed": true,
    "ExecuteTime": {
     "end_time": "2024-03-28T04:46:11.238547Z",
     "start_time": "2024-03-28T04:46:11.228534Z"
    }
   },
   "outputs": [],
   "source": [
    "from my_utils.stardisting import load_model\n",
    "from my_utils import tile_processing as tp\n",
    "\n",
    "from stardist.matching import matching_dataset as scorer\n",
    "import os\n",
    "from tqdm import tqdm\n",
    "import pandas as pd"
   ]
  },
  {
   "cell_type": "code",
   "outputs": [
    {
     "data": {
      "text/plain": "  Model Name Out    Initial Model  Random Split State  Epochs  Learning Rate   \n0       Model_01  2D_versatile_he                   7      50        0.00010  \\\n1       Model_02        Model _01                   7      50        0.00010   \n2       Model_03        Model _02                   7      50        0.00010   \n3       Model_04  2D_versatile_he                   7      50        0.00001   \n4       Model_05        Model _04                   7      50        0.00001   \n5       Model_06        Model _05                   7      50        0.00001   \n\n   Aug Rot90  Aug Flip  Aug Intensity  Aug Hue  Aug Blur  \n0      False     False          False    False     False  \n1      False     False          False    False     False  \n2      False     False          False    False     False  \n3      False     False          False    False     False  \n4      False     False          False    False     False  \n5      False     False          False    False     False  ",
      "text/html": "<div>\n<style scoped>\n    .dataframe tbody tr th:only-of-type {\n        vertical-align: middle;\n    }\n\n    .dataframe tbody tr th {\n        vertical-align: top;\n    }\n\n    .dataframe thead th {\n        text-align: right;\n    }\n</style>\n<table border=\"1\" class=\"dataframe\">\n  <thead>\n    <tr style=\"text-align: right;\">\n      <th></th>\n      <th>Model Name Out</th>\n      <th>Initial Model</th>\n      <th>Random Split State</th>\n      <th>Epochs</th>\n      <th>Learning Rate</th>\n      <th>Aug Rot90</th>\n      <th>Aug Flip</th>\n      <th>Aug Intensity</th>\n      <th>Aug Hue</th>\n      <th>Aug Blur</th>\n    </tr>\n  </thead>\n  <tbody>\n    <tr>\n      <th>0</th>\n      <td>Model_01</td>\n      <td>2D_versatile_he</td>\n      <td>7</td>\n      <td>50</td>\n      <td>0.00010</td>\n      <td>False</td>\n      <td>False</td>\n      <td>False</td>\n      <td>False</td>\n      <td>False</td>\n    </tr>\n    <tr>\n      <th>1</th>\n      <td>Model_02</td>\n      <td>Model _01</td>\n      <td>7</td>\n      <td>50</td>\n      <td>0.00010</td>\n      <td>False</td>\n      <td>False</td>\n      <td>False</td>\n      <td>False</td>\n      <td>False</td>\n    </tr>\n    <tr>\n      <th>2</th>\n      <td>Model_03</td>\n      <td>Model _02</td>\n      <td>7</td>\n      <td>50</td>\n      <td>0.00010</td>\n      <td>False</td>\n      <td>False</td>\n      <td>False</td>\n      <td>False</td>\n      <td>False</td>\n    </tr>\n    <tr>\n      <th>3</th>\n      <td>Model_04</td>\n      <td>2D_versatile_he</td>\n      <td>7</td>\n      <td>50</td>\n      <td>0.00001</td>\n      <td>False</td>\n      <td>False</td>\n      <td>False</td>\n      <td>False</td>\n      <td>False</td>\n    </tr>\n    <tr>\n      <th>4</th>\n      <td>Model_05</td>\n      <td>Model _04</td>\n      <td>7</td>\n      <td>50</td>\n      <td>0.00001</td>\n      <td>False</td>\n      <td>False</td>\n      <td>False</td>\n      <td>False</td>\n      <td>False</td>\n    </tr>\n    <tr>\n      <th>5</th>\n      <td>Model_06</td>\n      <td>Model _05</td>\n      <td>7</td>\n      <td>50</td>\n      <td>0.00001</td>\n      <td>False</td>\n      <td>False</td>\n      <td>False</td>\n      <td>False</td>\n      <td>False</td>\n    </tr>\n  </tbody>\n</table>\n</div>"
     },
     "execution_count": 5,
     "metadata": {},
     "output_type": "execute_result"
    }
   ],
   "source": [
    "sd_models_folder = r\"\\\\10.99.68.53\\Digital pathology image lib\\_Image libraries for training\\2023-05-09 Published HE Nuclei Datasets\\Segmentation Models\\StarDist\"\n",
    "df_inputs = pd.read_csv(os.path.join(sd_models_folder, \"SD_HE_20x Candidate Inputs.csv\"))\n",
    "df_inputs"
   ],
   "metadata": {
    "collapsed": false,
    "ExecuteTime": {
     "end_time": "2024-03-28T04:46:11.643564Z",
     "start_time": "2024-03-28T04:46:11.616443Z"
    }
   },
   "id": "214009b7392bd41d",
   "execution_count": 5
  },
  {
   "cell_type": "code",
   "outputs": [
    {
     "data": {
      "text/plain": "['Model_01', 'Model_02', 'Model_03', 'Model_04', 'Model_05', 'Model_06']"
     },
     "execution_count": 6,
     "metadata": {},
     "output_type": "execute_result"
    }
   ],
   "source": [
    "model_names = df_inputs['Model Name Out'].to_list()\n",
    "model_names\n",
    "# model = load_published_he_model(\n",
    "#     folder_to_write_new_model_folder=os.path.join(base_folder, \"Segmentation Models\\StarDist\"),\n",
    "#     name_for_new_model=model_name)"
   ],
   "metadata": {
    "collapsed": false,
    "ExecuteTime": {
     "end_time": "2024-03-28T04:57:30.862830Z",
     "start_time": "2024-03-28T04:57:30.845219Z"
    }
   },
   "id": "895614f8851b79b6",
   "execution_count": 6
  },
  {
   "cell_type": "code",
   "outputs": [],
   "source": [],
   "metadata": {
    "collapsed": false
   },
   "id": "1decffc74b2bc545"
  }
 ],
 "metadata": {
  "kernelspec": {
   "display_name": "Python 3",
   "language": "python",
   "name": "python3"
  },
  "language_info": {
   "codemirror_mode": {
    "name": "ipython",
    "version": 2
   },
   "file_extension": ".py",
   "mimetype": "text/x-python",
   "name": "python",
   "nbconvert_exporter": "python",
   "pygments_lexer": "ipython2",
   "version": "2.7.6"
  }
 },
 "nbformat": 4,
 "nbformat_minor": 5
}
