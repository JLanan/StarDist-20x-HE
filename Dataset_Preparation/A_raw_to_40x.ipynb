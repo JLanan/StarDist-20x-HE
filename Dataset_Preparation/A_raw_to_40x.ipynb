{
 "cells": [
  {
   "cell_type": "code",
   "execution_count": 6,
   "id": "initial_id",
   "metadata": {
    "collapsed": true,
    "ExecuteTime": {
     "end_time": "2024-03-22T18:05:36.736300600Z",
     "start_time": "2024-03-22T18:05:36.723315900Z"
    }
   },
   "outputs": [],
   "source": [
    "import numpy as np\n",
    "import os\n",
    "from skimage.io import imread, imsave\n",
    "from skimage import draw\n",
    "from scipy.io import loadmat\n",
    "from read_roi import read_roi_zip\n",
    "import xml.etree.ElementTree as ET\n",
    "from scipy.ndimage import label"
   ]
  },
  {
   "cell_type": "code",
   "execution_count": 17,
   "outputs": [],
   "source": [
    "path_raw = r\"\\\\10.99.68.53\\Digital pathology image lib\\_Image libraries for training\\2023-05-09 Published HE Nuclei Datasets\\_Raw Downloads\"\n",
    "path_40x = r\"\\\\10.99.68.53\\Digital pathology image lib\\_Image libraries for training\\2023-05-09 Published HE Nuclei Datasets\\40x Native\""
   ],
   "metadata": {
    "collapsed": false,
    "ExecuteTime": {
     "end_time": "2024-03-22T18:19:10.183345800Z",
     "start_time": "2024-03-22T18:19:10.173863100Z"
    }
   },
   "id": "f8be59a0ef0c32f7"
  },
  {
   "cell_type": "code",
   "execution_count": 18,
   "outputs": [],
   "source": [
    "# CoNSeP\n",
    "path_raw_dataset = os.path.join(path_raw, 'CoNSeP')\n",
    "dataset = {'Tile Names': [], 'Images': [], 'Masks': []}\n",
    "for filename in os.listdir(path_raw_dataset):\n",
    "    if filename == 'Train' or filename == 'Test':\n",
    "        path_test_train = os.path.join(path_raw_dataset, filename)\n",
    "        path_imgs = os.path.join(path_test_train, 'Images')\n",
    "        path_msks = os.path.join(path_test_train, 'Labels')\n",
    "        for tile_name in os.listdir(path_imgs):\n",
    "            if tile_name.endswith('.png'):\n",
    "                path_img = os.path.join(path_imgs, tile_name)\n",
    "                path_msk = os.path.join(path_msks, tile_name[:-4] + '.mat')\n",
    "                img = imread(path_img)[:, :, 0:3].astype(np.uint8)  # RGBAs with A=255\n",
    "                msk = loadmat(path_msk)['inst_map'].astype(np.uint16)\n",
    "                dataset['Tile Names'].append(tile_name[:-4])\n",
    "                dataset['Images'].append(img)\n",
    "                dataset['Masks'].append(msk)\n",
    "\n",
    "path_40x_dataset = os.path.join(path_40x, 'CoNSep')\n",
    "path_imgs = os.path.join(path_40x_dataset, 'images')\n",
    "path_msks = os.path.join(path_40x_dataset, 'masks')\n",
    "for i, name in enumerate(dataset['Tile Names']):\n",
    "    img, msk = dataset['Images'][i], dataset['Masks'][i]\n",
    "    imsave(os.path.join(path_imgs, name + '.tif'), img)\n",
    "    imsave(os.path.join(path_msks, name + '.tif'), msk, check_contrast=False)"
   ],
   "metadata": {
    "collapsed": false,
    "ExecuteTime": {
     "end_time": "2024-03-22T18:19:25.750115700Z",
     "start_time": "2024-03-22T18:19:11.284917200Z"
    }
   },
   "id": "4a631366c346dc5"
  },
  {
   "cell_type": "code",
   "execution_count": 23,
   "outputs": [],
   "source": [
    "# CryoNuSeg\n",
    "path_raw_dataset = os.path.join(path_raw, 'CryoNuSeg')\n",
    "path_imgs = os.path.join(path_raw_dataset, 'tissue images')\n",
    "path_msks = os.path.join(path_raw_dataset, 'Imagj_zips')\n",
    "dataset = {'Tile Names': [], 'Images': [], 'Masks': []}\n",
    "for tile_name in os.listdir(path_imgs):\n",
    "    if tile_name.endswith('.tif'):\n",
    "        img_path = os.path.join(path_imgs, tile_name)\n",
    "        zip_path = os.path.join(path_msks, tile_name[:-4] + '.zip')\n",
    "        img = imread(img_path).astype(np.uint8)\n",
    "        rois = read_roi_zip(zip_path)\n",
    "        msk = np.zeros(img.shape[:2], dtype=np.uint16)\n",
    "        for i, key in enumerate(list(rois.keys())):\n",
    "            x, y = rois[key]['x'], rois[key]['y']\n",
    "            x_crds_fill, y_crds_fill = draw.polygon(x, y, msk.shape)\n",
    "            msk[x_crds_fill, y_crds_fill] = i + 1\n",
    "        msk = msk.T.astype(np.uint16)\n",
    "        dataset['Tile Names'].append(tile_name[:-4])\n",
    "        dataset['Images'].append(img)\n",
    "        dataset['Masks'].append(msk)\n",
    "   \n",
    "path_40x_dataset = os.path.join(path_40x, 'CryoNuSeg')\n",
    "path_imgs = os.path.join(path_40x_dataset, 'images')\n",
    "path_msks = os.path.join(path_40x_dataset, 'masks')\n",
    "for i, name in enumerate(dataset['Tile Names']):\n",
    "    img, msk = dataset['Images'][i], dataset['Masks'][i]\n",
    "    imsave(os.path.join(path_imgs, name + '.tif'), img)\n",
    "    imsave(os.path.join(path_msks, name + '.tif'), msk, check_contrast=False)"
   ],
   "metadata": {
    "collapsed": false,
    "ExecuteTime": {
     "end_time": "2024-03-22T18:34:49.836687400Z",
     "start_time": "2024-03-22T18:34:44.124238900Z"
    }
   },
   "id": "fa1afd834409f942"
  },
  {
   "cell_type": "code",
   "execution_count": 26,
   "outputs": [],
   "source": [
    "# MoNuSeg\n",
    "path_raw_dataset = os.path.join(path_raw, 'MoNuSeg')\n",
    "dataset = {'Tile Names': [], 'Images': [], 'Masks': []}\n",
    "for item_name in os.listdir(path_raw_dataset):\n",
    "    if item_name == 'MoNuSeg_Train' or item_name == 'MoNuSeg_Test':\n",
    "        path_test_train = os.path.join(path_raw_dataset, item_name)\n",
    "        for tile_name in os.listdir(path_test_train):\n",
    "            if tile_name.endswith('.tif'):\n",
    "                path_img = os.path.join(path_test_train, tile_name)\n",
    "                img = imread(path_img).astype(np.uint8)\n",
    "                msk = np.zeros(img.shape[:2], dtype=np.uint16)\n",
    "                forest = ET.parse(os.path.join(path_test_train, tile_name[:-4] + '.xml'))\n",
    "                tree = forest.getroot()\n",
    "                count = 0\n",
    "                for branch in tree:\n",
    "                    for twig in branch:\n",
    "                        for leaf in twig:\n",
    "                            for vein in leaf:\n",
    "                                if vein.tag == 'Vertices':\n",
    "                                    count += 1\n",
    "                                    trace = np.zeros((len(vein), 2))\n",
    "                                    for i, vertex in enumerate(vein):\n",
    "                                        trace[i][0] = vertex.attrib['X']\n",
    "                                        trace[i][1] = vertex.attrib['Y']\n",
    "                                    x, y = trace[:, 0], trace[:, 1]\n",
    "                                    x_crds_fill, y_crds_fill = draw.polygon(x, y, msk.shape)\n",
    "                                    msk[x_crds_fill, y_crds_fill] = count + 1\n",
    "                msk = msk.T.astype(np.uint16)\n",
    "                dataset['Tile Names'].append(tile_name[:-4])\n",
    "                dataset['Images'].append(img)\n",
    "                dataset['Masks'].append(msk)\n",
    "\n",
    "path_40x_dataset = os.path.join(path_40x, 'MoNuSeg')\n",
    "path_imgs = os.path.join(path_40x_dataset, 'images')\n",
    "path_msks = os.path.join(path_40x_dataset, 'masks')\n",
    "for i, name in enumerate(dataset['Tile Names']):\n",
    "    img, msk = dataset['Images'][i], dataset['Masks'][i]\n",
    "    imsave(os.path.join(path_imgs, name + '.tif'), img)\n",
    "    imsave(os.path.join(path_msks, name + '.tif'), msk, check_contrast=False)"
   ],
   "metadata": {
    "collapsed": false,
    "ExecuteTime": {
     "end_time": "2024-03-22T18:54:04.855709300Z",
     "start_time": "2024-03-22T18:53:33.775053400Z"
    }
   },
   "id": "1a4cb292f7193d45"
  },
  {
   "cell_type": "code",
   "execution_count": 29,
   "outputs": [],
   "source": [
    "# TNBC\n",
    "path_raw_dataset = os.path.join(path_raw, 'TNBC')\n",
    "dataset = {'Tile Names': [], 'Images': [], 'Masks': []}\n",
    "for item_name in os.listdir(path_raw_dataset):\n",
    "    base, num = item_name.split('_')\n",
    "    if base == 'Slide':\n",
    "        path_imgs = os.path.join(path_raw_dataset, item_name)\n",
    "        path_msks = os.path.join(path_raw_dataset, 'GT_' + num)\n",
    "        for tile_name in os.listdir(path_imgs):\n",
    "            if tile_name.endswith('png'):\n",
    "                img_path = os.path.join(path_imgs, tile_name)\n",
    "                msk_path = os.path.join(path_msks, tile_name)\n",
    "                img = imread(img_path)[:, :, 0:3].astype(np.uint8)  # RGBAs with A=255\n",
    "                msk = imread(msk_path)\n",
    "                msk, _ = label(msk)\n",
    "                msk = np.asarray(msk).astype(np.uint16)\n",
    "                dataset['Tile Names'].append(tile_name[:-4])\n",
    "                dataset['Images'].append(img)\n",
    "                dataset['Masks'].append(msk)\n",
    "\n",
    "path_40x_dataset = os.path.join(path_40x, 'TNBC')\n",
    "path_imgs = os.path.join(path_40x_dataset, 'images')\n",
    "path_msks = os.path.join(path_40x_dataset, 'masks')\n",
    "for i, name in enumerate(dataset['Tile Names']):\n",
    "    img, msk = dataset['Images'][i], dataset['Masks'][i]\n",
    "    imsave(os.path.join(path_imgs, name + '.tif'), img)\n",
    "    imsave(os.path.join(path_msks, name + '.tif'), msk, check_contrast=False)"
   ],
   "metadata": {
    "collapsed": false,
    "ExecuteTime": {
     "end_time": "2024-03-22T20:48:00.247742900Z",
     "start_time": "2024-03-22T20:47:53.312718200Z"
    }
   },
   "id": "435d0ff42ec8ed53"
  },
  {
   "cell_type": "code",
   "execution_count": null,
   "outputs": [],
   "source": [],
   "metadata": {
    "collapsed": false
   },
   "id": "1dc48250a9f903f3"
  }
 ],
 "metadata": {
  "kernelspec": {
   "display_name": "Python 3",
   "language": "python",
   "name": "python3"
  },
  "language_info": {
   "codemirror_mode": {
    "name": "ipython",
    "version": 2
   },
   "file_extension": ".py",
   "mimetype": "text/x-python",
   "name": "python",
   "nbconvert_exporter": "python",
   "pygments_lexer": "ipython2",
   "version": "2.7.6"
  }
 },
 "nbformat": 4,
 "nbformat_minor": 5
}
