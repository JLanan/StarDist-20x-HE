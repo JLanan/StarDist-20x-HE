{
 "cells": [
  {
   "cell_type": "code",
   "execution_count": 1,
   "id": "initial_id",
   "metadata": {
    "collapsed": true,
    "ExecuteTime": {
     "end_time": "2024-03-22T21:05:26.053776400Z",
     "start_time": "2024-03-22T21:05:24.159171600Z"
    }
   },
   "outputs": [],
   "source": [
    "from skimage.transform import rescale\n",
    "from skimage.io import imread, imsave\n",
    "from tqdm import tqdm\n",
    "import os\n",
    "import numpy as np"
   ]
  },
  {
   "cell_type": "code",
   "execution_count": 2,
   "outputs": [],
   "source": [
    "path_20x = r\"\\\\10.99.68.53\\Digital pathology image lib\\_Image libraries for training\\2023-05-09 Published HE Nuclei Datasets\\20x Native\"\n",
    "path_40x = r\"\\\\10.99.68.53\\Digital pathology image lib\\_Image libraries for training\\2023-05-09 Published HE Nuclei Datasets\\40x Native\"\n",
    "path_int = r\"\\\\10.99.68.53\\Digital pathology image lib\\_Image libraries for training\\2023-05-09 Published HE Nuclei Datasets\\Interpolations\"\n",
    "Ls_and_Rs = os.listdir(path_int)"
   ],
   "metadata": {
    "collapsed": false,
    "ExecuteTime": {
     "end_time": "2024-03-22T21:05:26.069278800Z",
     "start_time": "2024-03-22T21:05:26.053776400Z"
    }
   },
   "id": "e714b12327e11ab6"
  },
  {
   "cell_type": "code",
   "execution_count": 3,
   "outputs": [],
   "source": [
    "def downsample(img, msk, order):\n",
    "    img = rescale(img, 0.5, order=order, channel_axis=2)\n",
    "    msk = rescale(msk, 0.5, order=0)\n",
    "    if order > 0:\n",
    "        img = img * 255\n",
    "    return img.astype(np.uint8), msk.astype(np.uint16)\n",
    "\n",
    "def upsample(img, msk, order):\n",
    "    img = rescale(img, 2, order=order, channel_axis=2)\n",
    "    msk = rescale(msk, 2, order=0)\n",
    "    if order > 0:\n",
    "        img = img * 255\n",
    "    return img.astype(np.uint8), msk.astype(np.uint16)"
   ],
   "metadata": {
    "collapsed": false,
    "ExecuteTime": {
     "end_time": "2024-03-22T21:05:26.087003200Z",
     "start_time": "2024-03-22T21:05:26.070276300Z"
    }
   },
   "id": "c7b7f9f645427957"
  },
  {
   "cell_type": "code",
   "execution_count": 4,
   "outputs": [
    {
     "name": "stderr",
     "output_type": "stream",
     "text": [
      "100%|██████████| 13/13 [04:39<00:00, 21.50s/it]\n",
      "100%|██████████| 13/13 [01:06<00:00,  5.09s/it]\n",
      "100%|██████████| 13/13 [05:53<00:00, 27.18s/it]\n",
      "100%|██████████| 13/13 [01:53<00:00,  8.71s/it]\n"
     ]
    }
   ],
   "source": [
    "# First the L's which start from 40x Native\n",
    "Ls = [L for L in Ls_and_Rs if 'L' in L]\n",
    "datasets = os.listdir(path_40x)\n",
    "for dataset in datasets:\n",
    "    path_imgs_in = os.path.join(os.path.join(path_40x, dataset), 'images')\n",
    "    path_msks_in = os.path.join(os.path.join(path_40x, dataset), 'masks')\n",
    "    for L in tqdm(Ls):\n",
    "        path_imgs_out = os.path.join(os.path.join(os.path.join(path_int, L), dataset), 'images')\n",
    "        path_msks_out = os.path.join(os.path.join(os.path.join(path_int, L), dataset), 'masks')\n",
    "        for filename in os.listdir(path_imgs_in):\n",
    "            if '.tif' in filename:\n",
    "                img = imread(os.path.join(path_imgs_in, filename))\n",
    "                msk = imread(os.path.join(path_msks_in, filename))\n",
    "                if '__' in L:  # Leave as Native\n",
    "                    pass\n",
    "                elif '_' in L:  # Downsample only\n",
    "                    order = eval(L[-2])\n",
    "                    img, msk = downsample(img, msk, order)\n",
    "                else:  # Downsample then Upsample\n",
    "                    order_down, order_up = eval(L[-2]), eval(L[-1])\n",
    "                    img, msk = downsample(img, msk, order_down)\n",
    "                    img, msk = upsample(img, msk, order_up)\n",
    "                imsave(os.path.join(path_imgs_out, filename), img)\n",
    "                imsave(os.path.join(path_msks_out, filename), msk, check_contrast=False)"
   ],
   "metadata": {
    "collapsed": false,
    "ExecuteTime": {
     "end_time": "2024-03-22T21:18:58.346564Z",
     "start_time": "2024-03-22T21:05:26.086006100Z"
    }
   },
   "id": "4499a4bf5b9e3839"
  },
  {
   "cell_type": "code",
   "execution_count": 5,
   "outputs": [
    {
     "name": "stderr",
     "output_type": "stream",
     "text": [
      "100%|██████████| 13/13 [03:22<00:00, 15.56s/it]\n"
     ]
    }
   ],
   "source": [
    "# Next the R's which start from 20x Native\n",
    "Rs = [R for R in Ls_and_Rs if 'R' in R]\n",
    "datasets = os.listdir(path_20x)\n",
    "for dataset in datasets:  # just JHU\n",
    "    path_imgs_in = os.path.join(os.path.join(path_20x, dataset), 'images')\n",
    "    path_msks_in = os.path.join(os.path.join(path_20x, dataset), 'masks')\n",
    "    for R in tqdm(Rs):\n",
    "        path_imgs_out = os.path.join(os.path.join(os.path.join(path_int, R), dataset), 'images')\n",
    "        path_msks_out = os.path.join(os.path.join(os.path.join(path_int, R), dataset), 'masks')\n",
    "        for filename in os.listdir(path_imgs_in):\n",
    "            if '.tif' in filename:\n",
    "                img = imread(os.path.join(path_imgs_in, filename))\n",
    "                msk = imread(os.path.join(path_msks_in, filename))\n",
    "                if '__' in R:  # Leave as Native\n",
    "                    pass\n",
    "                elif '_' in R:  # Upsample only\n",
    "                    order = eval(R[-2])\n",
    "                    img, msk = upsample(img, msk, order)\n",
    "                else:  # Upsample then Downsample\n",
    "                    order_up, order_down = eval(R[-2]), eval(R[-1])\n",
    "                    img, msk = upsample(img, msk, order_up)\n",
    "                    img, msk = downsample(img, msk, order_down)\n",
    "                imsave(os.path.join(path_imgs_out, filename), img)\n",
    "                imsave(os.path.join(path_msks_out, filename), msk, check_contrast=False)"
   ],
   "metadata": {
    "collapsed": false,
    "ExecuteTime": {
     "end_time": "2024-03-22T21:22:20.690401Z",
     "start_time": "2024-03-22T21:18:58.349553Z"
    }
   },
   "id": "8ad2ff07d06454eb"
  },
  {
   "cell_type": "code",
   "execution_count": 5,
   "outputs": [],
   "source": [],
   "metadata": {
    "collapsed": false,
    "ExecuteTime": {
     "end_time": "2024-03-22T21:22:20.708449700Z",
     "start_time": "2024-03-22T21:22:20.690401Z"
    }
   },
   "id": "14ea4058825a932c"
  }
 ],
 "metadata": {
  "kernelspec": {
   "display_name": "Python 3",
   "language": "python",
   "name": "python3"
  },
  "language_info": {
   "codemirror_mode": {
    "name": "ipython",
    "version": 2
   },
   "file_extension": ".py",
   "mimetype": "text/x-python",
   "name": "python",
   "nbconvert_exporter": "python",
   "pygments_lexer": "ipython2",
   "version": "2.7.6"
  }
 },
 "nbformat": 4,
 "nbformat_minor": 5
}
