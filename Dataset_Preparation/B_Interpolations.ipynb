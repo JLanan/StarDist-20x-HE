{
 "cells": [
  {
   "cell_type": "code",
   "execution_count": 19,
   "id": "initial_id",
   "metadata": {
    "collapsed": true,
    "ExecuteTime": {
     "end_time": "2024-03-27T18:47:29.383293400Z",
     "start_time": "2024-03-27T18:47:29.368292500Z"
    }
   },
   "outputs": [],
   "source": [
    "from skimage.transform import rescale\n",
    "from skimage.io import imread, imsave\n",
    "from skimage.util import img_as_ubyte, img_as_uint\n",
    "from tqdm import tqdm\n",
    "import os"
   ]
  },
  {
   "cell_type": "code",
   "execution_count": 20,
   "outputs": [],
   "source": [
    "path_20x = r\"\\\\10.99.68.53\\Digital pathology image lib\\_Image libraries for training\\2023-05-09 Published HE Nuclei Datasets\\20x Native\"\n",
    "path_40x = r\"\\\\10.99.68.53\\Digital pathology image lib\\_Image libraries for training\\2023-05-09 Published HE Nuclei Datasets\\40x Native\"\n",
    "path_int = r\"\\\\10.99.68.53\\Digital pathology image lib\\_Image libraries for training\\2023-05-09 Published HE Nuclei Datasets\\Interpolations\"\n",
    "Ls_and_Rs = os.listdir(path_int)"
   ],
   "metadata": {
    "collapsed": false,
    "ExecuteTime": {
     "end_time": "2024-03-27T18:47:29.404755700Z",
     "start_time": "2024-03-27T18:47:29.376779300Z"
    }
   },
   "id": "e714b12327e11ab6"
  },
  {
   "cell_type": "code",
   "execution_count": 21,
   "outputs": [],
   "source": [
    "def downsample(image, mask, ordr):\n",
    "    image = rescale(image, 0.5, order=ordr, channel_axis=2)\n",
    "    mask = rescale(mask, 0.5, order=0, anti_aliasing=False)\n",
    "    return img_as_ubyte(image), img_as_uint(mask)\n",
    "\n",
    "def upsample(image, mask, ordr):\n",
    "    image = rescale(image, 2, order=ordr, channel_axis=2)\n",
    "    mask = rescale(mask, 2, order=0, anti_aliasing=False)\n",
    "    return img_as_ubyte(image), img_as_uint(mask)"
   ],
   "metadata": {
    "collapsed": false,
    "ExecuteTime": {
     "end_time": "2024-03-27T18:47:29.412256600Z",
     "start_time": "2024-03-27T18:47:29.393283Z"
    }
   },
   "id": "c7b7f9f645427957"
  },
  {
   "cell_type": "code",
   "execution_count": 22,
   "outputs": [
    {
     "name": "stderr",
     "output_type": "stream",
     "text": [
      "100%|██████████| 13/13 [04:51<00:00, 22.42s/it]\n",
      "100%|██████████| 13/13 [01:08<00:00,  5.29s/it]\n",
      "100%|██████████| 13/13 [06:05<00:00, 28.12s/it]\n",
      "100%|██████████| 13/13 [01:58<00:00,  9.13s/it]\n"
     ]
    }
   ],
   "source": [
    "# First the L's which start from 40x Native\n",
    "Ls = [L for L in Ls_and_Rs if 'L' in L]\n",
    "datasets = os.listdir(path_40x)\n",
    "for dataset in datasets:\n",
    "    path_imgs_in = os.path.join(os.path.join(path_40x, dataset), 'images')\n",
    "    path_msks_in = os.path.join(os.path.join(path_40x, dataset), 'masks')\n",
    "    for L in tqdm(Ls):\n",
    "        path_imgs_out = os.path.join(os.path.join(os.path.join(path_int, L), dataset), 'images')\n",
    "        path_msks_out = os.path.join(os.path.join(os.path.join(path_int, L), dataset), 'masks')\n",
    "        for filename in os.listdir(path_imgs_in):\n",
    "            if '.tif' in filename:\n",
    "                img = imread(os.path.join(path_imgs_in, filename))\n",
    "                msk = imread(os.path.join(path_msks_in, filename))\n",
    "                if '__' in L:  # Leave as Native\n",
    "                    pass\n",
    "                elif '_' in L:  # Downsample only\n",
    "                    order = eval(L[-2])\n",
    "                    img, msk = downsample(img, msk, order)\n",
    "                else:  # Downsample then Upsample\n",
    "                    order_down, order_up = eval(L[-2]), eval(L[-1])\n",
    "                    img, msk = downsample(img, msk, order_down)\n",
    "                    img, msk = upsample(img, msk, order_up)\n",
    "                imsave(os.path.join(path_imgs_out, filename), img)\n",
    "                imsave(os.path.join(path_msks_out, filename), msk, check_contrast=False)"
   ],
   "metadata": {
    "collapsed": false,
    "ExecuteTime": {
     "end_time": "2024-03-27T19:01:33.913607200Z",
     "start_time": "2024-03-27T18:47:29.410246700Z"
    }
   },
   "id": "4499a4bf5b9e3839"
  },
  {
   "cell_type": "code",
   "execution_count": 23,
   "outputs": [
    {
     "name": "stderr",
     "output_type": "stream",
     "text": [
      "100%|██████████| 13/13 [03:32<00:00, 16.36s/it]\n"
     ]
    }
   ],
   "source": [
    "# Next the R's which start from 20x Native\n",
    "Rs = [R for R in Ls_and_Rs if 'R' in R]\n",
    "datasets = os.listdir(path_20x)\n",
    "for dataset in datasets:  # just JHU\n",
    "    path_imgs_in = os.path.join(os.path.join(path_20x, dataset), 'images')\n",
    "    path_msks_in = os.path.join(os.path.join(path_20x, dataset), 'masks')\n",
    "    for R in tqdm(Rs):\n",
    "        path_imgs_out = os.path.join(os.path.join(os.path.join(path_int, R), dataset), 'images')\n",
    "        path_msks_out = os.path.join(os.path.join(os.path.join(path_int, R), dataset), 'masks')\n",
    "        for filename in os.listdir(path_imgs_in):\n",
    "            if '.tif' in filename:\n",
    "                img = imread(os.path.join(path_imgs_in, filename))\n",
    "                msk = imread(os.path.join(path_msks_in, filename))\n",
    "                if '__' in R:  # Leave as Native\n",
    "                    pass\n",
    "                elif '_' in R:  # Upsample only\n",
    "                    order = eval(R[-2])\n",
    "                    img, msk = upsample(img, msk, order)\n",
    "                else:  # Upsample then Downsample\n",
    "                    order_up, order_down = eval(R[-2]), eval(R[-1])\n",
    "                    img, msk = upsample(img, msk, order_up)\n",
    "                    img, msk = downsample(img, msk, order_down)\n",
    "                imsave(os.path.join(path_imgs_out, filename), img)\n",
    "                imsave(os.path.join(path_msks_out, filename), msk, check_contrast=False)"
   ],
   "metadata": {
    "collapsed": false,
    "ExecuteTime": {
     "end_time": "2024-03-27T19:05:06.576374500Z",
     "start_time": "2024-03-27T19:01:33.911613700Z"
    }
   },
   "id": "8ad2ff07d06454eb"
  },
  {
   "cell_type": "code",
   "execution_count": 23,
   "outputs": [],
   "source": [],
   "metadata": {
    "collapsed": false,
    "ExecuteTime": {
     "end_time": "2024-03-27T19:05:06.594821600Z",
     "start_time": "2024-03-27T19:05:06.576374500Z"
    }
   },
   "id": "14ea4058825a932c"
  }
 ],
 "metadata": {
  "kernelspec": {
   "display_name": "Python 3",
   "language": "python",
   "name": "python3"
  },
  "language_info": {
   "codemirror_mode": {
    "name": "ipython",
    "version": 2
   },
   "file_extension": ".py",
   "mimetype": "text/x-python",
   "name": "python",
   "nbconvert_exporter": "python",
   "pygments_lexer": "ipython2",
   "version": "2.7.6"
  }
 },
 "nbformat": 4,
 "nbformat_minor": 5
}
