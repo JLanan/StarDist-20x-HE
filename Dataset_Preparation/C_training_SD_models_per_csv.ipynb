{
 "cells": [
  {
   "cell_type": "code",
   "execution_count": null,
   "id": "initial_id",
   "metadata": {
    "collapsed": true
   },
   "outputs": [],
   "source": [
    "import os\n",
    "import pandas as pd\n",
    "from my_utils import stardisting as sd\n",
    "from tqdm import tqdm\n",
    "from my_utils import published_data_processing as pub"
   ]
  },
  {
   "cell_type": "code",
   "execution_count": 7,
   "outputs": [
    {
     "ename": "ModuleNotFoundError",
     "evalue": "No module named 'augmend'",
     "output_type": "error",
     "traceback": [
      "\u001B[1;31m---------------------------------------------------------------------------\u001B[0m",
      "\u001B[1;31mModuleNotFoundError\u001B[0m                       Traceback (most recent call last)",
      "Cell \u001B[1;32mIn[7], line 2\u001B[0m\n\u001B[0;32m      1\u001B[0m \u001B[38;5;66;03m# ! pip install augmend\u001B[39;00m\n\u001B[1;32m----> 2\u001B[0m \u001B[38;5;28;01mimport\u001B[39;00m \u001B[38;5;21;01maugmend\u001B[39;00m\n",
      "\u001B[1;31mModuleNotFoundError\u001B[0m: No module named 'augmend'"
     ]
    }
   ],
   "source": [
    "# from augmend import Augmend, AdditiveNoise, GaussianBlur, Elastic, FlipRot90, IntensityScaleShift\n",
    "import augmend\n",
    "# ! pip install -U albumentations\n",
    "import matplotlib.pyplot as plt\n",
    "from skimage.io import imread\n",
    "# import augmend"
   ],
   "metadata": {
    "collapsed": false,
    "ExecuteTime": {
     "end_time": "2024-03-28T01:24:21.939789500Z",
     "start_time": "2024-03-28T01:24:21.881353100Z"
    }
   },
   "id": "835269dc9d600129"
  },
  {
   "cell_type": "code",
   "execution_count": null,
   "outputs": [],
   "source": [
    "img = imread(r\"Z:\\20x Native\\JHU\\images\\FallopianTube_test_1.tif\")\n",
    "msk = imread(r\"Z:\\20x Native\\JHU\\masks\\FallopianTube_test_1.tif\")\n",
    "fig, axes = plt.subplots(1, 2, figsize=(10, 5))\n",
    "axes[0].imshow(img)\n",
    "axes[0].axis('off')\n",
    "axes[1].imshow(msk, cmap='gray')\n",
    "axes[1].axis('off')\n",
    "plt.show()"
   ],
   "metadata": {
    "collapsed": false
   },
   "id": "3d97089a5e1ba3f6"
  },
  {
   "cell_type": "code",
   "execution_count": null,
   "outputs": [],
   "source": [],
   "metadata": {
    "collapsed": false
   },
   "id": "5ce00fc0f8cfdd01"
  },
  {
   "cell_type": "code",
   "execution_count": null,
   "outputs": [],
   "source": [],
   "metadata": {
    "collapsed": false
   },
   "id": "a11d30a31450279d"
  },
  {
   "cell_type": "code",
   "execution_count": null,
   "outputs": [],
   "source": [
    "# path_20x_public_downsample = \"Z:\\Interpolations\\L - 20x - 1_\"\n",
    "# full_dataset = pub.read_all_20x_published_data(path_20x_public_downsample)"
   ],
   "metadata": {
    "collapsed": false
   },
   "id": "ef764e8a0e7bcd28"
  },
  {
   "cell_type": "code",
   "execution_count": null,
   "outputs": [],
   "source": [
    "# path_models_sd = r\"Z:\\Segmentation Models\\StarDist\"\n",
    "# inputs_csv = \"SD_HE_20x Candidate Inputs.csv\"\n",
    "# df = pd.read_csv(os.path.join(path_models_sd, inputs_csv))\n",
    "# df"
   ],
   "metadata": {
    "collapsed": false
   },
   "id": "17d616d96af803c6"
  },
  {
   "cell_type": "code",
   "execution_count": null,
   "outputs": [],
   "source": [
    "# for _, row in tqdm(df.iterrows()):\n",
    "#     model_name, starting_model, r_state, epochs, lr, rot90flip, intensity, hue, noise, blur = [None for _ in range(len(row))]\n",
    "#     for item, value in row.items():\n",
    "#         if item == 'Model Name Out':\n",
    "#             model_name = value\n",
    "#         elif item == 'Initial Model':\n",
    "#             starting_model = value\n",
    "#         elif item == 'Random Split State':\n",
    "#             r_state = value\n",
    "#         elif item == 'Epochs':\n",
    "#             epochs = value\n",
    "#         elif item == 'Learning Rate':\n",
    "#             lr = value\n",
    "#         elif item == 'Aug Rot90Flip':\n",
    "#             rot90flip = value\n",
    "#         elif item == 'Aug Intensity':\n",
    "#             intensity = value\n",
    "#         elif item == 'Aug Hue':\n",
    "#             hue = value\n",
    "#         elif item == 'Aug Noise':\n",
    "#             noise = value   \n",
    "#         elif item == 'Aug Blur':\n",
    "#             blur = value\n",
    "#     if starting_model == '2D_versatile_he':\n",
    "#         model = sd.load_published_he_model(path_models_sd, model_name)\n",
    "#     elif starting_model == 'Random Initialization':\n",
    "#         model = sd.load_random_he_model(path_models_sd, model_name)\n",
    "#     else:\n",
    "#         model = sd.load_model(model_path=os.path.join(path_models_sd, starting_model), new_model_path_for_retraining=os.path.join(path_models_sd, model_name))\n",
    "# \n",
    "#     trn_vld_tst = pub.split_all_data([75, 15, 10], full_dataset, r_state)\n",
    "#     trn = {'Images': [], 'Masks': []}\n",
    "#     vld = {'Images': [], 'Masks': []}\n",
    "#     for dataset in list(full_dataset.keys()):\n",
    "#         [trn['Images'].append(trn_vld_tst['Train'][dataset]['Images'][i]) for i, img in enumerate(trn_vld_tst['Train'][dataset]['Images'])]\n",
    "#         [trn['Masks'].append(trn_vld_tst['Train'][dataset]['Masks'][i]) for i, msk in enumerate(trn_vld_tst['Train'][dataset]['Masks'])]\n",
    "#         [vld['Images'].append(trn_vld_tst['Validate'][dataset]['Images'][i]) for i, img in enumerate(trn_vld_tst['Validate'][dataset]['Images'])]\n",
    "#         [vld['Masks'].append(trn_vld_tst['Validate'][dataset]['Masks'][i]) for i, msk in enumerate(trn_vld_tst['Validate'][dataset]['Masks'])]\n",
    "# \n",
    "#     model = sd.configure_model_for_training(model=model, use_gpu=True, epochs=epochs, learning_rate=lr)\n",
    "#     model = sd.normalize_train_and_threshold(model=model, training_images=trn['Images'], training_masks=trn['Masks'],\n",
    "#                                          validation_images=vld['Images'], validation_masks=vld['Masks'])\n",
    "    "
   ],
   "metadata": {
    "collapsed": false
   },
   "id": "736348c839d59c9e"
  },
  {
   "cell_type": "code",
   "execution_count": null,
   "outputs": [],
   "source": [],
   "metadata": {
    "collapsed": false
   },
   "id": "f9a2f965230c81c1"
  },
  {
   "cell_type": "code",
   "execution_count": null,
   "outputs": [],
   "source": [],
   "metadata": {
    "collapsed": false
   },
   "id": "649c3a9559240c31"
  }
 ],
 "metadata": {
  "kernelspec": {
   "display_name": "Python 3",
   "language": "python",
   "name": "python3"
  },
  "language_info": {
   "codemirror_mode": {
    "name": "ipython",
    "version": 2
   },
   "file_extension": ".py",
   "mimetype": "text/x-python",
   "name": "python",
   "nbconvert_exporter": "python",
   "pygments_lexer": "ipython2",
   "version": "2.7.6"
  }
 },
 "nbformat": 4,
 "nbformat_minor": 5
}
