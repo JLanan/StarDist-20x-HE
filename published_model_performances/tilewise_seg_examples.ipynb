{
 "cells": [
  {
   "cell_type": "code",
   "execution_count": 140,
   "metadata": {
    "collapsed": true
   },
   "outputs": [
    {
     "name": "stderr",
     "output_type": "stream",
     "text": [
      "base_model.py (198): output path for model already exists, files may be overwritten: \\\\10.99.68.53\\Digital pathology image lib\\_Image libraries for training\\2023-05-09 Published HE Nuclei Datasets\\StarDist Segmentation Models\\SD_HE_20x\n"
     ]
    },
    {
     "name": "stdout",
     "output_type": "stream",
     "text": [
      "Loading thresholds from 'thresholds.json'.\n",
      "Using default values: prob_thresh=0.694669, nms_thresh=0.3.\n",
      "Overriding defaults: Thresholds(prob=0.694668575772041, nms=0.3) \n",
      "\n"
     ]
    }
   ],
   "source": [
    "from my_utils import stardisting as sd\n",
    "\n",
    "from skimage.io import imread, imsave\n",
    "import numpy as np\n",
    "import os\n",
    "import matplotlib.pyplot as plt\n",
    "\n",
    "model = sd.load_model(model_path=r\"\\\\10.99.68.53\\Digital pathology image lib\\_Image libraries for training\\2023-05-09 Published HE Nuclei Datasets\\StarDist Segmentation Models\\SD_HE_20x\")\n",
    "img_folder = r\"\\\\10.99.68.53\\Digital pathology image lib\\_Image libraries for training\\2023-05-09 Published HE Nuclei Datasets\\20x Native\\JHU\\images\"\n",
    "msk_folder = r\"\\\\10.99.68.53\\Digital pathology image lib\\_Image libraries for training\\2023-05-09 Published HE Nuclei Datasets\\20x Native\\JHU\\masks\"\n",
    "tile_name = 'FallopianTube_train_1.tif'\n",
    "img = imread(os.path.join(img_folder, tile_name))"
   ]
  },
  {
   "cell_type": "code",
   "execution_count": 141,
   "outputs": [],
   "source": [
    "overlap = 128\n",
    "img_top = img[0: 256 + overlap // 2, :]\n",
    "img_bot = img[256 - overlap // 2:, :]\n",
    "msk_top, details_top = model.predict_instances(img_top / 255)\n",
    "msk_bot, details_bot = model.predict_instances(img_bot / 255)"
   ],
   "metadata": {
    "collapsed": false
   }
  },
  {
   "cell_type": "code",
   "execution_count": 142,
   "outputs": [],
   "source": [
    "def erase_bottom_edge_objects(mask, results, ovrlp):\n",
    "    blackouts = []\n",
    "    for i, centroid in enumerate(results['points']):\n",
    "        x, y = centroid[0], centroid[1]\n",
    "        if x >= len(mask) - ovrlp // 2:\n",
    "            blackouts.append(i)\n",
    "    # Black out edge objects on the label.\n",
    "    label_blackouts = np.asarray(blackouts) + 1\n",
    "    mask[np.isin(mask, label_blackouts)] = 0\n",
    "    # Remap the integer values to close the counting gaps created by blackouts\n",
    "    uniques = np.unique(mask)\n",
    "    remap = {unique: i for i, unique in enumerate(uniques)}\n",
    "    mask = np.vectorize(remap.get)(mask)\n",
    "    return mask\n",
    "\n",
    "def erase_top_edge_objects(mask, results, ovrlp):\n",
    "    blackouts = []\n",
    "    for i, centroid in enumerate(results['points']):\n",
    "        x, y = centroid[0], centroid[1]\n",
    "        if x < ovrlp // 2:\n",
    "            blackouts.append(i)\n",
    "    # Black out edge objects on the label.\n",
    "    label_blackouts = np.asarray(blackouts) + 1\n",
    "    mask[np.isin(mask, label_blackouts)] = 0\n",
    "    # Remap the integer values to close the counting gaps created by blackouts\n",
    "    uniques = np.unique(mask)\n",
    "    remap = {unique: i for i, unique in enumerate(uniques)}\n",
    "    mask = np.vectorize(remap.get)(mask)\n",
    "    return mask"
   ],
   "metadata": {
    "collapsed": false
   }
  },
  {
   "cell_type": "code",
   "execution_count": 143,
   "outputs": [],
   "source": [
    "imsave(os.path.join(img_folder, 'img_top.tif'), img_top)\n",
    "imsave(os.path.join(img_folder, 'img_bot.tif'), img_bot)"
   ],
   "metadata": {
    "collapsed": false
   }
  },
  {
   "cell_type": "code",
   "execution_count": 144,
   "outputs": [],
   "source": [
    "imsave(os.path.join(img_folder, 'msk_top_full.tif'), msk_top.astype(np.uint8))\n",
    "msk_top = erase_bottom_edge_objects(msk_top, details_top, overlap)\n",
    "imsave(os.path.join(img_folder, 'msk_top_edged.tif'), msk_top.astype(np.uint8))"
   ],
   "metadata": {
    "collapsed": false
   }
  },
  {
   "cell_type": "code",
   "execution_count": 145,
   "outputs": [],
   "source": [
    "imsave(os.path.join(img_folder, 'msk_bot_full.tif'), msk_bot.astype(np.uint8))\n",
    "msk_bot = erase_top_edge_objects(msk_bot, details_bot, overlap)\n",
    "imsave(os.path.join(img_folder, 'msk_bot_edged.tif'), msk_bot.astype(np.uint8))"
   ],
   "metadata": {
    "collapsed": false
   }
  },
  {
   "cell_type": "code",
   "execution_count": 146,
   "outputs": [
    {
     "name": "stderr",
     "output_type": "stream",
     "text": [
      "3677617039.py (2): \\\\10.99.68.53\\Digital pathology image lib\\_Image libraries for training\\2023-05-09 Published HE Nuclei Datasets\\20x Native\\JHU\\images\\msk_blank.tif is a low contrast image\n"
     ]
    }
   ],
   "source": [
    "msk_black = np.zeros((img.shape[0], img.shape[1]), dtype=np.uint8)\n",
    "imsave(os.path.join(img_folder, 'msk_blank.tif'), msk_black)"
   ],
   "metadata": {
    "collapsed": false
   }
  },
  {
   "cell_type": "code",
   "execution_count": 147,
   "outputs": [],
   "source": [
    "mask_bool = (msk_top != 0)\n",
    "msk_black[0: 256 + overlap // 2, :][mask_bool] = msk_top[mask_bool]\n",
    "imsave(os.path.join(img_folder, 'msk_top_only.tif'), msk_black)\n",
    "\n",
    "mask_bool = (msk_bot != 0)\n",
    "msk_black[256 - overlap // 2:, :][mask_bool] = msk_bot[mask_bool]\n",
    "imsave(os.path.join(img_folder, 'msk_combine.tif'), msk_black)"
   ],
   "metadata": {
    "collapsed": false
   }
  }
 ],
 "metadata": {
  "kernelspec": {
   "display_name": "Python 3",
   "language": "python",
   "name": "python3"
  },
  "language_info": {
   "codemirror_mode": {
    "name": "ipython",
    "version": 2
   },
   "file_extension": ".py",
   "mimetype": "text/x-python",
   "name": "python",
   "nbconvert_exporter": "python",
   "pygments_lexer": "ipython2",
   "version": "2.7.6"
  }
 },
 "nbformat": 4,
 "nbformat_minor": 0
}
