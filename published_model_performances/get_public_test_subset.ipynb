{
 "cells": [
  {
   "cell_type": "code",
   "outputs": [],
   "source": [
    "from my_utils import published_data_processing as pub\n",
    "\n",
    "import pandas as pd\n",
    "import os"
   ],
   "metadata": {
    "collapsed": false,
    "ExecuteTime": {
     "end_time": "2024-04-26T05:12:33.185072Z",
     "start_time": "2024-04-26T05:12:33.172174Z"
    }
   },
   "id": "5d7979ae6fcfe5bd",
   "execution_count": 7
  },
  {
   "cell_type": "code",
   "outputs": [
    {
     "name": "stdout",
     "output_type": "stream",
     "text": [
      "dict_keys(['CoNSeP', 'CryoNuSeg', 'MoNuSeg', 'TNBC'])\n",
      "dict_keys(['Names', 'Images', 'Masks'])\n"
     ]
    }
   ],
   "source": [
    "path_20x_public_downsample = \"Z:\\Interpolations\\L - 20x - 1_\"\n",
    "full_dataset = pub.read_all_20x_published_data(path_20x_public_downsample)\n",
    "print(full_dataset.keys())\n",
    "print(full_dataset['TNBC'].keys())"
   ],
   "metadata": {
    "collapsed": true,
    "ExecuteTime": {
     "end_time": "2024-04-26T05:12:41.700252Z",
     "start_time": "2024-04-26T05:12:33.186073Z"
    }
   },
   "id": "initial_id",
   "execution_count": 8
  },
  {
   "cell_type": "code",
   "outputs": [
    {
     "name": "stdout",
     "output_type": "stream",
     "text": [
      "dict_keys(['Train', 'Validate', 'Test'])\n",
      "dict_keys(['CoNSeP', 'CryoNuSeg', 'MoNuSeg', 'TNBC'])\n",
      "dict_keys(['Names', 'Images', 'Masks'])\n"
     ]
    }
   ],
   "source": [
    "trn_vld_tst = pub.split_all_data(splits=[75, 15, 10], all_data=full_dataset, random_state=2)\n",
    "print(trn_vld_tst.keys())\n",
    "print(trn_vld_tst['Test'].keys())\n",
    "print(trn_vld_tst['Test']['TNBC'].keys())"
   ],
   "metadata": {
    "collapsed": false,
    "ExecuteTime": {
     "end_time": "2024-04-26T05:12:41.715750Z",
     "start_time": "2024-04-26T05:12:41.701253Z"
    }
   },
   "id": "a1173ad7d855b516",
   "execution_count": 9
  },
  {
   "cell_type": "code",
   "outputs": [],
   "source": [
    "df = pd.DataFrame(columns=['Dataset', 'Tile', 'Split', 'SubTEST'])\n",
    "i = 0\n",
    "for split in list(trn_vld_tst.keys()):\n",
    "    for dataset in list(trn_vld_tst[split].keys()):\n",
    "        for tilename in trn_vld_tst[split][dataset]['Names']:\n",
    "            df.at[i, 'Dataset'] = dataset\n",
    "            df.at[i, 'Tile'] = tilename\n",
    "            df.at[i, 'Split'] = split\n",
    "            df.at[i, 'SubTEST'] = False\n",
    "            if split == 'Test' and dataset in ['CryoNuSeg', 'TNBC']:\n",
    "                df.at[i, 'SubTEST'] = True\n",
    "            # elif split == 'Test' and tilename in ['TCGA-44-2665-01B-06-BS6', 'TCGA-2Z-A9J9-01A-01-TS1']:\n",
    "            #     df.at[i, 'SubTEST'] = True\n",
    "            i += 1"
   ],
   "metadata": {
    "collapsed": false,
    "ExecuteTime": {
     "end_time": "2024-04-26T05:12:41.746258Z",
     "start_time": "2024-04-26T05:12:41.716751Z"
    }
   },
   "id": "b576500554e002de",
   "execution_count": 10
  },
  {
   "cell_type": "code",
   "outputs": [
    {
     "data": {
      "text/plain": "    Dataset      Tile  Split SubTEST\n0    CoNSeP   test_13  Train   False\n1    CoNSeP    test_3  Train   False\n2    CoNSeP   train_7  Train   False\n3    CoNSeP    test_5  Train   False\n4    CoNSeP  train_22  Train   False\n..      ...       ...    ...     ...\n167    TNBC      03_1   Test    True\n168    TNBC      05_1   Test    True\n169    TNBC      11_2   Test    True\n170    TNBC      01_6   Test    True\n171    TNBC      01_4   Test    True\n\n[172 rows x 4 columns]",
      "text/html": "<div>\n<style scoped>\n    .dataframe tbody tr th:only-of-type {\n        vertical-align: middle;\n    }\n\n    .dataframe tbody tr th {\n        vertical-align: top;\n    }\n\n    .dataframe thead th {\n        text-align: right;\n    }\n</style>\n<table border=\"1\" class=\"dataframe\">\n  <thead>\n    <tr style=\"text-align: right;\">\n      <th></th>\n      <th>Dataset</th>\n      <th>Tile</th>\n      <th>Split</th>\n      <th>SubTEST</th>\n    </tr>\n  </thead>\n  <tbody>\n    <tr>\n      <th>0</th>\n      <td>CoNSeP</td>\n      <td>test_13</td>\n      <td>Train</td>\n      <td>False</td>\n    </tr>\n    <tr>\n      <th>1</th>\n      <td>CoNSeP</td>\n      <td>test_3</td>\n      <td>Train</td>\n      <td>False</td>\n    </tr>\n    <tr>\n      <th>2</th>\n      <td>CoNSeP</td>\n      <td>train_7</td>\n      <td>Train</td>\n      <td>False</td>\n    </tr>\n    <tr>\n      <th>3</th>\n      <td>CoNSeP</td>\n      <td>test_5</td>\n      <td>Train</td>\n      <td>False</td>\n    </tr>\n    <tr>\n      <th>4</th>\n      <td>CoNSeP</td>\n      <td>train_22</td>\n      <td>Train</td>\n      <td>False</td>\n    </tr>\n    <tr>\n      <th>...</th>\n      <td>...</td>\n      <td>...</td>\n      <td>...</td>\n      <td>...</td>\n    </tr>\n    <tr>\n      <th>167</th>\n      <td>TNBC</td>\n      <td>03_1</td>\n      <td>Test</td>\n      <td>True</td>\n    </tr>\n    <tr>\n      <th>168</th>\n      <td>TNBC</td>\n      <td>05_1</td>\n      <td>Test</td>\n      <td>True</td>\n    </tr>\n    <tr>\n      <th>169</th>\n      <td>TNBC</td>\n      <td>11_2</td>\n      <td>Test</td>\n      <td>True</td>\n    </tr>\n    <tr>\n      <th>170</th>\n      <td>TNBC</td>\n      <td>01_6</td>\n      <td>Test</td>\n      <td>True</td>\n    </tr>\n    <tr>\n      <th>171</th>\n      <td>TNBC</td>\n      <td>01_4</td>\n      <td>Test</td>\n      <td>True</td>\n    </tr>\n  </tbody>\n</table>\n<p>172 rows × 4 columns</p>\n</div>"
     },
     "execution_count": 11,
     "metadata": {},
     "output_type": "execute_result"
    }
   ],
   "source": [
    "df"
   ],
   "metadata": {
    "collapsed": false,
    "ExecuteTime": {
     "end_time": "2024-04-26T05:12:41.761761Z",
     "start_time": "2024-04-26T05:12:41.747259Z"
    }
   },
   "id": "6cbcc26538bf36fa",
   "execution_count": 11
  },
  {
   "cell_type": "code",
   "outputs": [],
   "source": [
    "outpath = os.path.join(\"Z:\\Segmentation Scores on Interpolations\", 'SPLITS.csv')\n",
    "df.to_csv(outpath, index=False)"
   ],
   "metadata": {
    "collapsed": false,
    "ExecuteTime": {
     "end_time": "2024-04-26T05:12:41.808788Z",
     "start_time": "2024-04-26T05:12:41.762761Z"
    }
   },
   "id": "489628543f126561",
   "execution_count": 12
  },
  {
   "cell_type": "code",
   "outputs": [],
   "source": [],
   "metadata": {
    "collapsed": false,
    "ExecuteTime": {
     "end_time": "2024-04-26T05:12:41.824290Z",
     "start_time": "2024-04-26T05:12:41.809788Z"
    }
   },
   "id": "d3f3d555a379e2dc",
   "execution_count": 12
  }
 ],
 "metadata": {
  "kernelspec": {
   "display_name": "Python 3",
   "language": "python",
   "name": "python3"
  },
  "language_info": {
   "codemirror_mode": {
    "name": "ipython",
    "version": 2
   },
   "file_extension": ".py",
   "mimetype": "text/x-python",
   "name": "python",
   "nbconvert_exporter": "python",
   "pygments_lexer": "ipython2",
   "version": "2.7.6"
  }
 },
 "nbformat": 4,
 "nbformat_minor": 5
}
