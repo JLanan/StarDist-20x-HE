{
 "cells": [
  {
   "cell_type": "code",
   "execution_count": 1,
   "id": "initial_id",
   "metadata": {
    "collapsed": true,
    "ExecuteTime": {
     "end_time": "2024-03-22T16:13:16.884512700Z",
     "start_time": "2024-03-22T16:13:16.785358900Z"
    }
   },
   "outputs": [],
   "source": [
    "import cv2"
   ]
  },
  {
   "cell_type": "code",
   "execution_count": 2,
   "outputs": [],
   "source": [
    "file_path = \"//10.99.68.53/Digital pathology image lib/_Image libraries for training/2023-05-09 Published HE Nuclei Datasets/quick hovernet test/Human_AdrenalGland_01.tif\"\n",
    "bgr_image = cv2.imread(file_path)\n",
    "rgb_image = cv2.cvtColor(bgr_image, cv2.COLOR_BGR2RGB)"
   ],
   "metadata": {
    "collapsed": false,
    "ExecuteTime": {
     "end_time": "2024-03-22T16:15:50.877212900Z",
     "start_time": "2024-03-22T16:15:50.828624200Z"
    }
   },
   "id": "2a317594c2efb85"
  },
  {
   "cell_type": "code",
   "execution_count": 3,
   "outputs": [
    {
     "data": {
      "text/plain": "(512, 512, 3)"
     },
     "execution_count": 3,
     "metadata": {},
     "output_type": "execute_result"
    }
   ],
   "source": [
    "rgb_image.shape"
   ],
   "metadata": {
    "collapsed": false,
    "ExecuteTime": {
     "end_time": "2024-03-22T16:15:57.455306400Z",
     "start_time": "2024-03-22T16:15:57.437212800Z"
    }
   },
   "id": "8df803f286108492"
  },
  {
   "cell_type": "code",
   "execution_count": 10,
   "outputs": [
    {
     "name": "stdout",
     "output_type": "stream",
     "text": [
      "[179 166 198]\n"
     ]
    }
   ],
   "source": [
    "print(rgb_image[0][0])"
   ],
   "metadata": {
    "collapsed": false,
    "ExecuteTime": {
     "end_time": "2024-03-22T16:20:04.944391800Z",
     "start_time": "2024-03-22T16:20:04.935741100Z"
    }
   },
   "id": "52745eb177821708"
  },
  {
   "cell_type": "code",
   "execution_count": 5,
   "outputs": [],
   "source": [
    "file_path = r\"\\\\10.99.68.53\\Digital pathology image lib\\_Image libraries for training\\2023-05-09 Published HE Nuclei Datasets\\40x Native\\TNBC\\images\\01_1.tif\"\n",
    "import skimage\n",
    "img = skimage.io.imread(file_path)"
   ],
   "metadata": {
    "collapsed": false,
    "ExecuteTime": {
     "end_time": "2024-03-22T16:17:43.360280200Z",
     "start_time": "2024-03-22T16:17:42.828015200Z"
    }
   },
   "id": "325bb1d88c887f08"
  },
  {
   "cell_type": "code",
   "execution_count": 6,
   "outputs": [
    {
     "data": {
      "text/plain": "(512, 512, 3)"
     },
     "execution_count": 6,
     "metadata": {},
     "output_type": "execute_result"
    }
   ],
   "source": [
    "img.shape"
   ],
   "metadata": {
    "collapsed": false,
    "ExecuteTime": {
     "end_time": "2024-03-22T16:17:48.046928100Z",
     "start_time": "2024-03-22T16:17:48.028964500Z"
    }
   },
   "id": "9be589775ed2266d"
  },
  {
   "cell_type": "code",
   "execution_count": 8,
   "outputs": [
    {
     "name": "stdout",
     "output_type": "stream",
     "text": [
      "[0.81960784 0.74901961 0.77254902]\n"
     ]
    }
   ],
   "source": [
    "print(img[0][0])"
   ],
   "metadata": {
    "collapsed": false,
    "ExecuteTime": {
     "end_time": "2024-03-22T16:18:29.275397500Z",
     "start_time": "2024-03-22T16:18:29.257201400Z"
    }
   },
   "id": "89e73c026581be8d"
  },
  {
   "cell_type": "code",
   "execution_count": null,
   "outputs": [],
   "source": [],
   "metadata": {
    "collapsed": false
   },
   "id": "93927c878d419c37"
  }
 ],
 "metadata": {
  "kernelspec": {
   "display_name": "Python 3",
   "language": "python",
   "name": "python3"
  },
  "language_info": {
   "codemirror_mode": {
    "name": "ipython",
    "version": 2
   },
   "file_extension": ".py",
   "mimetype": "text/x-python",
   "name": "python",
   "nbconvert_exporter": "python",
   "pygments_lexer": "ipython2",
   "version": "2.7.6"
  }
 },
 "nbformat": 4,
 "nbformat_minor": 5
}
