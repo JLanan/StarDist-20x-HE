{
 "cells": [
  {
   "cell_type": "code",
   "execution_count": 2,
   "id": "initial_id",
   "metadata": {
    "collapsed": true,
    "ExecuteTime": {
     "end_time": "2024-03-21T08:30:30.287894300Z",
     "start_time": "2024-03-21T08:30:30.272268600Z"
    }
   },
   "outputs": [],
   "source": [
    "from my_utils.stardisting import load_published_he_model"
   ]
  },
  {
   "cell_type": "code",
   "execution_count": 3,
   "outputs": [
    {
     "name": "stdout",
     "output_type": "stream",
     "text": [
      "Found model '2D_versatile_he' for 'StarDist2D'.\n",
      "Loading network weights from 'weights_best.h5'.\n",
      "Loading thresholds from 'thresholds.json'.\n",
      "Using default values: prob_thresh=0.692478, nms_thresh=0.3.\n",
      "Using default values: prob_thresh=0.5, nms_thresh=0.4.\n",
      "\n",
      "Ignore that, thresholds are: Thresholds(prob=0.6924782541382084, nms=0.3)\n"
     ]
    }
   ],
   "source": [
    "model = load_published_he_model(\n",
    "    folder_to_write_new_model_folder=r\"\\\\10.99.68.53\\Digital pathology image lib\\_Image libraries for training\\2023-05-09 Published HE Nuclei Datasets\\Segmentation Models\\StarDist\",\n",
    "    name_for_new_model='2D_versatile_he')"
   ],
   "metadata": {
    "collapsed": false,
    "ExecuteTime": {
     "end_time": "2024-03-21T08:30:33.224932300Z",
     "start_time": "2024-03-21T08:30:31.089006400Z"
    }
   },
   "id": "cc8ff3a8f92fefe7"
  },
  {
   "cell_type": "code",
   "execution_count": null,
   "outputs": [],
   "source": [],
   "metadata": {
    "collapsed": false
   },
   "id": "2409d931a682a63a"
  }
 ],
 "metadata": {
  "kernelspec": {
   "display_name": "Python 3",
   "language": "python",
   "name": "python3"
  },
  "language_info": {
   "codemirror_mode": {
    "name": "ipython",
    "version": 2
   },
   "file_extension": ".py",
   "mimetype": "text/x-python",
   "name": "python",
   "nbconvert_exporter": "python",
   "pygments_lexer": "ipython2",
   "version": "2.7.6"
  }
 },
 "nbformat": 4,
 "nbformat_minor": 5
}
