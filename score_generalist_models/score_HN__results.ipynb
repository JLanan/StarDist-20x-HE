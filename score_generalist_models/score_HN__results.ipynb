{
 "cells": [
  {
   "cell_type": "code",
   "execution_count": 15,
   "id": "initial_id",
   "metadata": {
    "collapsed": true,
    "ExecuteTime": {
     "end_time": "2024-04-26T05:05:15.197270Z",
     "start_time": "2024-04-26T05:05:15.186236Z"
    }
   },
   "outputs": [],
   "source": [
    "from my_utils import tile_processing as tp\n",
    "\n",
    "from stardist.matching import matching_dataset as scorer\n",
    "import os\n",
    "from tqdm import tqdm\n",
    "import pandas as pd\n",
    "from scipy.io import loadmat"
   ]
  },
  {
   "cell_type": "code",
   "outputs": [],
   "source": [
    "model_name = 'HN_CPM17'\n",
    "base_folder = r\"\\\\10.99.68.53\\Digital pathology image lib\\_Image libraries for training\\2023-05-09 Published HE Nuclei Datasets\"\n",
    "path_ints = os.path.join(base_folder, \"Interpolations\")\n",
    "path_segs = os.path.join(base_folder, \"Segmentations \" + model_name)\n",
    "interpolations = os.listdir(path_ints)"
   ],
   "metadata": {
    "collapsed": false,
    "ExecuteTime": {
     "end_time": "2024-04-26T05:05:15.212678Z",
     "start_time": "2024-04-26T05:05:15.198679Z"
    }
   },
   "id": "ceee7747306eca37",
   "execution_count": 16
  },
  {
   "cell_type": "code",
   "outputs": [],
   "source": [
    "taus = [0.5]\n",
    "columns = ['Model', 'Interpolation', 'Dataset', 'Tile', 'Tau', 'TP', 'FP', 'FN', 'Precision', 'Recall', 'F1-Score', 'Panoptic Quality']\n",
    "df_scores = pd.DataFrame(columns=columns)"
   ],
   "metadata": {
    "collapsed": false,
    "ExecuteTime": {
     "end_time": "2024-04-26T05:05:15.227681Z",
     "start_time": "2024-04-26T05:05:15.213680Z"
    }
   },
   "id": "a232a4263c3f636a",
   "execution_count": 17
  },
  {
   "cell_type": "code",
   "outputs": [],
   "source": [
    "def write_row(column_names, vals, df):\n",
    "    row = pd.DataFrame(pd.Series(index=column_names)).T\n",
    "    for c, col_name in enumerate(column_names):\n",
    "        row[col_name] = vals[c]\n",
    "    return pd.concat([df, row], ignore_index=True, axis=0)"
   ],
   "metadata": {
    "collapsed": false,
    "ExecuteTime": {
     "end_time": "2024-04-26T05:05:15.243187Z",
     "start_time": "2024-04-26T05:05:15.229185Z"
    }
   },
   "id": "fda82b1777236fcd",
   "execution_count": 18
  },
  {
   "cell_type": "code",
   "outputs": [
    {
     "name": "stderr",
     "output_type": "stream",
     "text": [
      "Interpolation: 100%|██████████| 26/26 [06:07<00:00, 14.13s/it]\n"
     ]
    }
   ],
   "source": [
    "for interpolation in tqdm(interpolations, desc='Interpolation'):\n",
    "# for interpolation in [interpolations[0]]:\n",
    "    path_datasets = os.path.join(path_ints, interpolation)\n",
    "    path_datasets_HN = os.path.join(path_segs, interpolation)\n",
    "    for dataset in os.listdir(path_datasets):\n",
    "    # for dataset in [os.listdir(path_datasets)[0]]:\n",
    "        path_gts = os.path.join(os.path.join(path_datasets, dataset), r'masks')\n",
    "        path_preds = os.path.join(os.path.join(path_datasets_HN, dataset), r'images\\mat')\n",
    "        # pred = loadmat('your_file.mat')['inst_map']\n",
    "        tile_set = tp.TileSetReader(path_gts, '.tif').tile_set\n",
    "        for i, tilename in enumerate(tile_set[0]):\n",
    "            gt = tile_set[1][i]\n",
    "            pred = loadmat(os.path.join(path_preds, tilename + '.mat'))['inst_map']\n",
    "            gt, pred = tp.remove_margin_objects(gt, 5), tp.remove_margin_objects(pred, 5)\n",
    "            for tau in taus:\n",
    "                scores = scorer([gt], [pred], thresh=tau, show_progress=False)._asdict()\n",
    "                values = [model_name, interpolation, dataset, tilename, tau,\n",
    "                          scores['tp'], scores['fp'], scores['fn'],\n",
    "                          scores['precision'], scores['recall'], scores['f1'], scores['panoptic_quality']]\n",
    "                df_scores = write_row(columns, values, df_scores)"
   ],
   "metadata": {
    "collapsed": false,
    "ExecuteTime": {
     "end_time": "2024-04-26T05:11:22.721988Z",
     "start_time": "2024-04-26T05:05:15.244188Z"
    }
   },
   "id": "114c38e6e915a112",
   "execution_count": 19
  },
  {
   "cell_type": "code",
   "outputs": [
    {
     "data": {
      "text/plain": "         Model Interpolation Dataset          Tile  Tau   TP   FP    FN   \n0     HN_CPM17  L - 20x - 0_  CoNSeP        test_1  0.5   88   58   607  \\\n1     HN_CPM17  L - 20x - 0_  CoNSeP       test_10  0.5   79   74   561   \n2     HN_CPM17  L - 20x - 0_  CoNSeP       test_11  0.5   79  120   787   \n3     HN_CPM17  L - 20x - 0_  CoNSeP       test_12  0.5   31   45   289   \n4     HN_CPM17  L - 20x - 0_  CoNSeP       test_13  0.5  119  184  1041   \n...        ...           ...     ...           ...  ...  ...  ...   ...   \n2621  HN_CPM17  R - 40x - 3_     JHU  Skin_train_1  0.5  173   72    33   \n2622  HN_CPM17  R - 40x - 3_     JHU  Skin_train_2  0.5   39  105    11   \n2623  HN_CPM17  R - 40x - 3_     JHU  Skin_train_3  0.5  384  175   284   \n2624  HN_CPM17  R - 40x - 3_     JHU  Skin_train_4  0.5  220   51   112   \n2625  HN_CPM17  R - 40x - 3_     JHU  Skin_train_5  0.5  113   80    94   \n\n      Precision    Recall  F1-Score  Panoptic Quality  \n0      0.602740  0.126619  0.209275          0.145972  \n1      0.516340  0.123438  0.199243          0.139893  \n2      0.396985  0.091224  0.148357          0.099463  \n3      0.407895  0.096875  0.156566          0.104487  \n4      0.392739  0.102586  0.162679          0.111641  \n...         ...       ...       ...               ...  \n2621   0.706122  0.839806  0.767184          0.541617  \n2622   0.270833  0.780000  0.402062          0.280387  \n2623   0.686941  0.574850  0.625917          0.445239  \n2624   0.811808  0.662651  0.729685          0.569663  \n2625   0.585492  0.545894  0.565000          0.396552  \n\n[2626 rows x 12 columns]",
      "text/html": "<div>\n<style scoped>\n    .dataframe tbody tr th:only-of-type {\n        vertical-align: middle;\n    }\n\n    .dataframe tbody tr th {\n        vertical-align: top;\n    }\n\n    .dataframe thead th {\n        text-align: right;\n    }\n</style>\n<table border=\"1\" class=\"dataframe\">\n  <thead>\n    <tr style=\"text-align: right;\">\n      <th></th>\n      <th>Model</th>\n      <th>Interpolation</th>\n      <th>Dataset</th>\n      <th>Tile</th>\n      <th>Tau</th>\n      <th>TP</th>\n      <th>FP</th>\n      <th>FN</th>\n      <th>Precision</th>\n      <th>Recall</th>\n      <th>F1-Score</th>\n      <th>Panoptic Quality</th>\n    </tr>\n  </thead>\n  <tbody>\n    <tr>\n      <th>0</th>\n      <td>HN_CPM17</td>\n      <td>L - 20x - 0_</td>\n      <td>CoNSeP</td>\n      <td>test_1</td>\n      <td>0.5</td>\n      <td>88</td>\n      <td>58</td>\n      <td>607</td>\n      <td>0.602740</td>\n      <td>0.126619</td>\n      <td>0.209275</td>\n      <td>0.145972</td>\n    </tr>\n    <tr>\n      <th>1</th>\n      <td>HN_CPM17</td>\n      <td>L - 20x - 0_</td>\n      <td>CoNSeP</td>\n      <td>test_10</td>\n      <td>0.5</td>\n      <td>79</td>\n      <td>74</td>\n      <td>561</td>\n      <td>0.516340</td>\n      <td>0.123438</td>\n      <td>0.199243</td>\n      <td>0.139893</td>\n    </tr>\n    <tr>\n      <th>2</th>\n      <td>HN_CPM17</td>\n      <td>L - 20x - 0_</td>\n      <td>CoNSeP</td>\n      <td>test_11</td>\n      <td>0.5</td>\n      <td>79</td>\n      <td>120</td>\n      <td>787</td>\n      <td>0.396985</td>\n      <td>0.091224</td>\n      <td>0.148357</td>\n      <td>0.099463</td>\n    </tr>\n    <tr>\n      <th>3</th>\n      <td>HN_CPM17</td>\n      <td>L - 20x - 0_</td>\n      <td>CoNSeP</td>\n      <td>test_12</td>\n      <td>0.5</td>\n      <td>31</td>\n      <td>45</td>\n      <td>289</td>\n      <td>0.407895</td>\n      <td>0.096875</td>\n      <td>0.156566</td>\n      <td>0.104487</td>\n    </tr>\n    <tr>\n      <th>4</th>\n      <td>HN_CPM17</td>\n      <td>L - 20x - 0_</td>\n      <td>CoNSeP</td>\n      <td>test_13</td>\n      <td>0.5</td>\n      <td>119</td>\n      <td>184</td>\n      <td>1041</td>\n      <td>0.392739</td>\n      <td>0.102586</td>\n      <td>0.162679</td>\n      <td>0.111641</td>\n    </tr>\n    <tr>\n      <th>...</th>\n      <td>...</td>\n      <td>...</td>\n      <td>...</td>\n      <td>...</td>\n      <td>...</td>\n      <td>...</td>\n      <td>...</td>\n      <td>...</td>\n      <td>...</td>\n      <td>...</td>\n      <td>...</td>\n      <td>...</td>\n    </tr>\n    <tr>\n      <th>2621</th>\n      <td>HN_CPM17</td>\n      <td>R - 40x - 3_</td>\n      <td>JHU</td>\n      <td>Skin_train_1</td>\n      <td>0.5</td>\n      <td>173</td>\n      <td>72</td>\n      <td>33</td>\n      <td>0.706122</td>\n      <td>0.839806</td>\n      <td>0.767184</td>\n      <td>0.541617</td>\n    </tr>\n    <tr>\n      <th>2622</th>\n      <td>HN_CPM17</td>\n      <td>R - 40x - 3_</td>\n      <td>JHU</td>\n      <td>Skin_train_2</td>\n      <td>0.5</td>\n      <td>39</td>\n      <td>105</td>\n      <td>11</td>\n      <td>0.270833</td>\n      <td>0.780000</td>\n      <td>0.402062</td>\n      <td>0.280387</td>\n    </tr>\n    <tr>\n      <th>2623</th>\n      <td>HN_CPM17</td>\n      <td>R - 40x - 3_</td>\n      <td>JHU</td>\n      <td>Skin_train_3</td>\n      <td>0.5</td>\n      <td>384</td>\n      <td>175</td>\n      <td>284</td>\n      <td>0.686941</td>\n      <td>0.574850</td>\n      <td>0.625917</td>\n      <td>0.445239</td>\n    </tr>\n    <tr>\n      <th>2624</th>\n      <td>HN_CPM17</td>\n      <td>R - 40x - 3_</td>\n      <td>JHU</td>\n      <td>Skin_train_4</td>\n      <td>0.5</td>\n      <td>220</td>\n      <td>51</td>\n      <td>112</td>\n      <td>0.811808</td>\n      <td>0.662651</td>\n      <td>0.729685</td>\n      <td>0.569663</td>\n    </tr>\n    <tr>\n      <th>2625</th>\n      <td>HN_CPM17</td>\n      <td>R - 40x - 3_</td>\n      <td>JHU</td>\n      <td>Skin_train_5</td>\n      <td>0.5</td>\n      <td>113</td>\n      <td>80</td>\n      <td>94</td>\n      <td>0.585492</td>\n      <td>0.545894</td>\n      <td>0.565000</td>\n      <td>0.396552</td>\n    </tr>\n  </tbody>\n</table>\n<p>2626 rows × 12 columns</p>\n</div>"
     },
     "execution_count": 20,
     "metadata": {},
     "output_type": "execute_result"
    }
   ],
   "source": [
    "df_scores"
   ],
   "metadata": {
    "collapsed": false,
    "ExecuteTime": {
     "end_time": "2024-04-26T05:11:22.737203Z",
     "start_time": "2024-04-26T05:11:22.722989Z"
    }
   },
   "id": "21fac03540b5fb6c",
   "execution_count": 20
  },
  {
   "cell_type": "code",
   "outputs": [],
   "source": [
    "out_folder = r\"\\\\10.99.68.53\\Digital pathology image lib\\_Image libraries for training\\2023-05-09 Published HE Nuclei Datasets\\Segmentation Scores on Interpolations\"\n",
    "df_scores.to_csv(os.path.join(out_folder, f'{model_name}.csv'), index=False)"
   ],
   "metadata": {
    "collapsed": false,
    "ExecuteTime": {
     "end_time": "2024-04-26T05:11:22.846203Z",
     "start_time": "2024-04-26T05:11:22.738204Z"
    }
   },
   "id": "ccdc4d393cbee220",
   "execution_count": 21
  },
  {
   "cell_type": "code",
   "outputs": [],
   "source": [],
   "metadata": {
    "collapsed": false,
    "ExecuteTime": {
     "end_time": "2024-04-26T05:11:22.862293Z",
     "start_time": "2024-04-26T05:11:22.847280Z"
    }
   },
   "id": "c0930fa87138afb4",
   "execution_count": 21
  }
 ],
 "metadata": {
  "kernelspec": {
   "display_name": "Python 3",
   "language": "python",
   "name": "python3"
  },
  "language_info": {
   "codemirror_mode": {
    "name": "ipython",
    "version": 2
   },
   "file_extension": ".py",
   "mimetype": "text/x-python",
   "name": "python",
   "nbconvert_exporter": "python",
   "pygments_lexer": "ipython2",
   "version": "2.7.6"
  }
 },
 "nbformat": 4,
 "nbformat_minor": 5
}
