{
 "cells": [
  {
   "cell_type": "code",
   "execution_count": 39,
   "id": "initial_id",
   "metadata": {
    "collapsed": true,
    "ExecuteTime": {
     "end_time": "2024-04-24T07:34:35.451224Z",
     "start_time": "2024-04-24T07:34:35.448722Z"
    }
   },
   "outputs": [],
   "source": [
    "from my_utils import tile_processing as tp\n",
    "\n",
    "from stardist.matching import matching_dataset as scorer\n",
    "import os\n",
    "from tqdm import tqdm\n",
    "import pandas as pd\n",
    "from scipy.io import loadmat"
   ]
  },
  {
   "cell_type": "code",
   "outputs": [],
   "source": [
    "model_name = 'HN_Kumar'\n",
    "base_folder = r\"\\\\10.99.68.53\\Digital pathology image lib\\_Image libraries for training\\2023-05-09 Published HE Nuclei Datasets\"\n",
    "path_ints = os.path.join(base_folder, \"Interpolations\")\n",
    "path_segs = os.path.join(base_folder, \"Segmentations \" + model_name)\n",
    "interpolations = os.listdir(path_ints)"
   ],
   "metadata": {
    "collapsed": false,
    "ExecuteTime": {
     "end_time": "2024-04-24T07:34:35.466741Z",
     "start_time": "2024-04-24T07:34:35.456731Z"
    }
   },
   "id": "ceee7747306eca37",
   "execution_count": 40
  },
  {
   "cell_type": "code",
   "outputs": [],
   "source": [
    "taus = [0.5]\n",
    "columns = ['Model', 'Interpolation', 'Dataset', 'Tile', 'Tau', 'TP', 'FP', 'FN', 'Precision', 'Recall', 'F1-Score', 'Panoptic Quality']\n",
    "df_scores = pd.DataFrame(columns=columns)"
   ],
   "metadata": {
    "collapsed": false,
    "ExecuteTime": {
     "end_time": "2024-04-24T07:34:35.482245Z",
     "start_time": "2024-04-24T07:34:35.467741Z"
    }
   },
   "id": "a232a4263c3f636a",
   "execution_count": 41
  },
  {
   "cell_type": "code",
   "outputs": [],
   "source": [
    "def write_row(column_names, vals, df):\n",
    "    row = pd.DataFrame(pd.Series(index=column_names)).T\n",
    "    for c, col_name in enumerate(column_names):\n",
    "        row[col_name] = vals[c]\n",
    "    return pd.concat([df, row], ignore_index=True, axis=0)"
   ],
   "metadata": {
    "collapsed": false,
    "ExecuteTime": {
     "end_time": "2024-04-24T07:34:35.497728Z",
     "start_time": "2024-04-24T07:34:35.483245Z"
    }
   },
   "id": "fda82b1777236fcd",
   "execution_count": 42
  },
  {
   "cell_type": "code",
   "outputs": [
    {
     "name": "stderr",
     "output_type": "stream",
     "text": [
      "Interpolation: 100%|██████████| 26/26 [04:31<00:00, 10.43s/it]\n"
     ]
    }
   ],
   "source": [
    "for interpolation in tqdm(interpolations, desc='Interpolation'):\n",
    "# for interpolation in [interpolations[0]]:\n",
    "    path_datasets = os.path.join(path_ints, interpolation)\n",
    "    path_datasets_HN = os.path.join(path_segs, interpolation)\n",
    "    for dataset in os.listdir(path_datasets):\n",
    "    # for dataset in [os.listdir(path_datasets)[0]]:\n",
    "        path_gts = os.path.join(os.path.join(path_datasets, dataset), r'masks')\n",
    "        path_preds = os.path.join(os.path.join(path_datasets_HN, dataset), r'images\\mat')\n",
    "        # pred = loadmat('your_file.mat')['inst_map']\n",
    "        tile_set = tp.TileSetReader(path_gts, '.tif').tile_set\n",
    "        for i, tilename in enumerate(tile_set[0]):\n",
    "            gt = tile_set[1][i]\n",
    "            pred = loadmat(os.path.join(path_preds, tilename + '.mat'))['inst_map']\n",
    "            for tau in taus:\n",
    "                scores = scorer([gt], [pred], thresh=tau, show_progress=False)._asdict()\n",
    "                values = [model_name, interpolation, dataset, tilename, tau,\n",
    "                          scores['tp'], scores['fp'], scores['fn'],\n",
    "                          scores['precision'], scores['recall'], scores['f1'], scores['panoptic_quality']]\n",
    "                df_scores = write_row(columns, values, df_scores)"
   ],
   "metadata": {
    "collapsed": false,
    "ExecuteTime": {
     "end_time": "2024-04-24T07:39:06.593798Z",
     "start_time": "2024-04-24T07:34:35.498728Z"
    }
   },
   "id": "114c38e6e915a112",
   "execution_count": 43
  },
  {
   "cell_type": "code",
   "outputs": [
    {
     "data": {
      "text/plain": "         Model Interpolation Dataset          Tile  Tau   TP   FP    FN   \n0     HN_Kumar  L - 20x - 0_  CoNSeP        test_1  0.5  111   21   753  \\\n1     HN_Kumar  L - 20x - 0_  CoNSeP       test_10  0.5  176   87   669   \n2     HN_Kumar  L - 20x - 0_  CoNSeP       test_11  0.5  161  144   916   \n3     HN_Kumar  L - 20x - 0_  CoNSeP       test_12  0.5   33    9   395   \n4     HN_Kumar  L - 20x - 0_  CoNSeP       test_13  0.5  253  103  1106   \n...        ...           ...     ...           ...  ...  ...  ...   ...   \n2621  HN_Kumar  R - 40x - 3_     JHU  Skin_train_1  0.5  182   36    59   \n2622  HN_Kumar  R - 40x - 3_     JHU  Skin_train_2  0.5   45   33    40   \n2623  HN_Kumar  R - 40x - 3_     JHU  Skin_train_3  0.5  447  107   366   \n2624  HN_Kumar  R - 40x - 3_     JHU  Skin_train_4  0.5  229   36   167   \n2625  HN_Kumar  R - 40x - 3_     JHU  Skin_train_5  0.5  134   40   107   \n\n      Precision    Recall  F1-Score  Panoptic Quality  \n0      0.840909  0.128472  0.222892          0.165767  \n1      0.669202  0.208284  0.317690          0.234297  \n2      0.527869  0.149489  0.232996          0.165535  \n3      0.785714  0.077103  0.140426          0.099562  \n4      0.710674  0.186166  0.295044          0.224156  \n...         ...       ...       ...               ...  \n2621   0.834862  0.755187  0.793028          0.618698  \n2622   0.576923  0.529412  0.552147          0.416972  \n2623   0.806859  0.549815  0.653987          0.495921  \n2624   0.864151  0.578283  0.692890          0.549404  \n2625   0.770115  0.556017  0.645783          0.479583  \n\n[2626 rows x 12 columns]",
      "text/html": "<div>\n<style scoped>\n    .dataframe tbody tr th:only-of-type {\n        vertical-align: middle;\n    }\n\n    .dataframe tbody tr th {\n        vertical-align: top;\n    }\n\n    .dataframe thead th {\n        text-align: right;\n    }\n</style>\n<table border=\"1\" class=\"dataframe\">\n  <thead>\n    <tr style=\"text-align: right;\">\n      <th></th>\n      <th>Model</th>\n      <th>Interpolation</th>\n      <th>Dataset</th>\n      <th>Tile</th>\n      <th>Tau</th>\n      <th>TP</th>\n      <th>FP</th>\n      <th>FN</th>\n      <th>Precision</th>\n      <th>Recall</th>\n      <th>F1-Score</th>\n      <th>Panoptic Quality</th>\n    </tr>\n  </thead>\n  <tbody>\n    <tr>\n      <th>0</th>\n      <td>HN_Kumar</td>\n      <td>L - 20x - 0_</td>\n      <td>CoNSeP</td>\n      <td>test_1</td>\n      <td>0.5</td>\n      <td>111</td>\n      <td>21</td>\n      <td>753</td>\n      <td>0.840909</td>\n      <td>0.128472</td>\n      <td>0.222892</td>\n      <td>0.165767</td>\n    </tr>\n    <tr>\n      <th>1</th>\n      <td>HN_Kumar</td>\n      <td>L - 20x - 0_</td>\n      <td>CoNSeP</td>\n      <td>test_10</td>\n      <td>0.5</td>\n      <td>176</td>\n      <td>87</td>\n      <td>669</td>\n      <td>0.669202</td>\n      <td>0.208284</td>\n      <td>0.317690</td>\n      <td>0.234297</td>\n    </tr>\n    <tr>\n      <th>2</th>\n      <td>HN_Kumar</td>\n      <td>L - 20x - 0_</td>\n      <td>CoNSeP</td>\n      <td>test_11</td>\n      <td>0.5</td>\n      <td>161</td>\n      <td>144</td>\n      <td>916</td>\n      <td>0.527869</td>\n      <td>0.149489</td>\n      <td>0.232996</td>\n      <td>0.165535</td>\n    </tr>\n    <tr>\n      <th>3</th>\n      <td>HN_Kumar</td>\n      <td>L - 20x - 0_</td>\n      <td>CoNSeP</td>\n      <td>test_12</td>\n      <td>0.5</td>\n      <td>33</td>\n      <td>9</td>\n      <td>395</td>\n      <td>0.785714</td>\n      <td>0.077103</td>\n      <td>0.140426</td>\n      <td>0.099562</td>\n    </tr>\n    <tr>\n      <th>4</th>\n      <td>HN_Kumar</td>\n      <td>L - 20x - 0_</td>\n      <td>CoNSeP</td>\n      <td>test_13</td>\n      <td>0.5</td>\n      <td>253</td>\n      <td>103</td>\n      <td>1106</td>\n      <td>0.710674</td>\n      <td>0.186166</td>\n      <td>0.295044</td>\n      <td>0.224156</td>\n    </tr>\n    <tr>\n      <th>...</th>\n      <td>...</td>\n      <td>...</td>\n      <td>...</td>\n      <td>...</td>\n      <td>...</td>\n      <td>...</td>\n      <td>...</td>\n      <td>...</td>\n      <td>...</td>\n      <td>...</td>\n      <td>...</td>\n      <td>...</td>\n    </tr>\n    <tr>\n      <th>2621</th>\n      <td>HN_Kumar</td>\n      <td>R - 40x - 3_</td>\n      <td>JHU</td>\n      <td>Skin_train_1</td>\n      <td>0.5</td>\n      <td>182</td>\n      <td>36</td>\n      <td>59</td>\n      <td>0.834862</td>\n      <td>0.755187</td>\n      <td>0.793028</td>\n      <td>0.618698</td>\n    </tr>\n    <tr>\n      <th>2622</th>\n      <td>HN_Kumar</td>\n      <td>R - 40x - 3_</td>\n      <td>JHU</td>\n      <td>Skin_train_2</td>\n      <td>0.5</td>\n      <td>45</td>\n      <td>33</td>\n      <td>40</td>\n      <td>0.576923</td>\n      <td>0.529412</td>\n      <td>0.552147</td>\n      <td>0.416972</td>\n    </tr>\n    <tr>\n      <th>2623</th>\n      <td>HN_Kumar</td>\n      <td>R - 40x - 3_</td>\n      <td>JHU</td>\n      <td>Skin_train_3</td>\n      <td>0.5</td>\n      <td>447</td>\n      <td>107</td>\n      <td>366</td>\n      <td>0.806859</td>\n      <td>0.549815</td>\n      <td>0.653987</td>\n      <td>0.495921</td>\n    </tr>\n    <tr>\n      <th>2624</th>\n      <td>HN_Kumar</td>\n      <td>R - 40x - 3_</td>\n      <td>JHU</td>\n      <td>Skin_train_4</td>\n      <td>0.5</td>\n      <td>229</td>\n      <td>36</td>\n      <td>167</td>\n      <td>0.864151</td>\n      <td>0.578283</td>\n      <td>0.692890</td>\n      <td>0.549404</td>\n    </tr>\n    <tr>\n      <th>2625</th>\n      <td>HN_Kumar</td>\n      <td>R - 40x - 3_</td>\n      <td>JHU</td>\n      <td>Skin_train_5</td>\n      <td>0.5</td>\n      <td>134</td>\n      <td>40</td>\n      <td>107</td>\n      <td>0.770115</td>\n      <td>0.556017</td>\n      <td>0.645783</td>\n      <td>0.479583</td>\n    </tr>\n  </tbody>\n</table>\n<p>2626 rows × 12 columns</p>\n</div>"
     },
     "execution_count": 44,
     "metadata": {},
     "output_type": "execute_result"
    }
   ],
   "source": [
    "df_scores"
   ],
   "metadata": {
    "collapsed": false,
    "ExecuteTime": {
     "end_time": "2024-04-24T07:39:06.608812Z",
     "start_time": "2024-04-24T07:39:06.594798Z"
    }
   },
   "id": "21fac03540b5fb6c",
   "execution_count": 44
  },
  {
   "cell_type": "code",
   "outputs": [],
   "source": [
    "out_folder = r\"\\\\10.99.68.53\\Digital pathology image lib\\_Image libraries for training\\2023-05-09 Published HE Nuclei Datasets\\Segmentation Scores on Interpolations\"\n",
    "df_scores.to_csv(os.path.join(out_folder, f'{model_name}.csv'), index=False)"
   ],
   "metadata": {
    "collapsed": false,
    "ExecuteTime": {
     "end_time": "2024-04-24T07:39:06.701012Z",
     "start_time": "2024-04-24T07:39:06.609812Z"
    }
   },
   "id": "ccdc4d393cbee220",
   "execution_count": 45
  },
  {
   "cell_type": "code",
   "outputs": [],
   "source": [],
   "metadata": {
    "collapsed": false,
    "ExecuteTime": {
     "end_time": "2024-04-24T07:39:06.716517Z",
     "start_time": "2024-04-24T07:39:06.702012Z"
    }
   },
   "id": "c0930fa87138afb4",
   "execution_count": 45
  }
 ],
 "metadata": {
  "kernelspec": {
   "display_name": "Python 3",
   "language": "python",
   "name": "python3"
  },
  "language_info": {
   "codemirror_mode": {
    "name": "ipython",
    "version": 2
   },
   "file_extension": ".py",
   "mimetype": "text/x-python",
   "name": "python",
   "nbconvert_exporter": "python",
   "pygments_lexer": "ipython2",
   "version": "2.7.6"
  }
 },
 "nbformat": 4,
 "nbformat_minor": 5
}
