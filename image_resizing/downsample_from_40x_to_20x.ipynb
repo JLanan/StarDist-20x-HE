{
 "cells": [
  {
   "cell_type": "code",
   "execution_count": 54,
   "id": "initial_id",
   "metadata": {
    "collapsed": true,
    "ExecuteTime": {
     "end_time": "2024-03-21T07:34:39.760644300Z",
     "start_time": "2024-03-21T07:34:39.740469900Z"
    }
   },
   "outputs": [],
   "source": [
    "from skimage.transform import rescale\n",
    "from skimage.io import imread, imsave\n",
    "from tqdm import tqdm\n",
    "import os\n",
    "import numpy as np"
   ]
  },
  {
   "cell_type": "code",
   "execution_count": 55,
   "outputs": [],
   "source": [
    "path_40x = r\"\\\\10.99.68.53\\Digital pathology image lib\\_Image libraries for training\\2023-05-09 Published HE Nuclei Datasets\\40x Native\"\n",
    "path_20x_down = r\"\\\\10.99.68.53\\Digital pathology image lib\\_Image libraries for training\\2023-05-09 Published HE Nuclei Datasets\\20x Downsampled\""
   ],
   "metadata": {
    "collapsed": false,
    "ExecuteTime": {
     "end_time": "2024-03-21T07:34:39.767203100Z",
     "start_time": "2024-03-21T07:34:39.756096300Z"
    }
   },
   "id": "da7c7332699dc84b"
  },
  {
   "cell_type": "code",
   "execution_count": 56,
   "outputs": [],
   "source": [
    "orders = ['0 - Nearest Neighbor', '1 - Bilinear', '2 - Bicubic']\n",
    "datasets = ['CoNSeP', 'CryoNuSeg', 'MoNuSeg', 'TNBC']"
   ],
   "metadata": {
    "collapsed": false,
    "ExecuteTime": {
     "end_time": "2024-03-21T07:34:39.782827600Z",
     "start_time": "2024-03-21T07:34:39.764891Z"
    }
   },
   "id": "c1c4927345decc4a"
  },
  {
   "cell_type": "code",
   "execution_count": 57,
   "outputs": [
    {
     "name": "stderr",
     "output_type": "stream",
     "text": [
      "100%|██████████| 42/42 [00:10<00:00,  4.07it/s]\n",
      "100%|██████████| 31/31 [00:02<00:00, 10.92it/s]\n",
      "100%|██████████| 52/52 [00:09<00:00,  5.61it/s]\n",
      "100%|██████████| 50/50 [00:08<00:00,  5.78it/s]\n",
      "100%|██████████| 42/42 [00:09<00:00,  4.22it/s]\n",
      "100%|██████████| 31/31 [00:03<00:00, 10.05it/s]\n",
      "100%|██████████| 52/52 [00:09<00:00,  5.30it/s]\n",
      "100%|██████████| 50/50 [00:07<00:00,  6.65it/s]\n",
      "100%|██████████| 42/42 [00:16<00:00,  2.62it/s]\n",
      "100%|██████████| 31/31 [00:04<00:00,  7.35it/s]\n",
      "100%|██████████| 52/52 [00:17<00:00,  2.92it/s]\n",
      "100%|██████████| 50/50 [00:09<00:00,  5.35it/s]\n"
     ]
    }
   ],
   "source": [
    "for order in orders:\n",
    "    for dataset in datasets:\n",
    "        path_40x_imgs = os.path.join(path_40x, dataset + r\"\\images\")\n",
    "        path_40x_msks = os.path.join(path_40x, dataset + r\"\\masks\")\n",
    "        path_20x_imgs = os.path.join(os.path.join(path_20x_down, order), dataset + r\"\\images\")\n",
    "        path_20x_msks = os.path.join(os.path.join(path_20x_down, order), dataset + r\"\\masks\")\n",
    "        for filename in tqdm(os.listdir(path_40x_imgs)):\n",
    "            if filename.endswith('.tif'):\n",
    "                ordr = eval(order[0])\n",
    "                img = imread(os.path.join(path_40x_imgs, filename))\n",
    "                msk = imread(os.path.join(path_40x_msks, filename))\n",
    "                img = rescale(img, 0.5, order=ordr, channel_axis=2)  # Default anti_aliasing\n",
    "                msk = rescale(msk, 0.5, order=0)\n",
    "                if ordr > 0:\n",
    "                    img = (img * 255).astype(np.uint8)\n",
    "                imsave(os.path.join(path_20x_imgs, filename), img)\n",
    "                imsave(os.path.join(path_20x_msks, filename), msk, check_contrast=False)"
   ],
   "metadata": {
    "collapsed": false,
    "ExecuteTime": {
     "end_time": "2024-03-21T07:36:28.757188400Z",
     "start_time": "2024-03-21T07:34:39.782827600Z"
    }
   },
   "id": "2d40dc4763b2d63f"
  },
  {
   "cell_type": "code",
   "execution_count": 57,
   "outputs": [],
   "source": [
    "\n",
    "        "
   ],
   "metadata": {
    "collapsed": false,
    "ExecuteTime": {
     "end_time": "2024-03-21T07:36:28.774460100Z",
     "start_time": "2024-03-21T07:36:28.757188400Z"
    }
   },
   "id": "62380b6a190bfc8d"
  },
  {
   "cell_type": "code",
   "execution_count": 57,
   "outputs": [],
   "source": [],
   "metadata": {
    "collapsed": false,
    "ExecuteTime": {
     "end_time": "2024-03-21T07:36:28.790083800Z",
     "start_time": "2024-03-21T07:36:28.774460100Z"
    }
   },
   "id": "5014343c16c0c792"
  }
 ],
 "metadata": {
  "kernelspec": {
   "display_name": "Python 3",
   "language": "python",
   "name": "python3"
  },
  "language_info": {
   "codemirror_mode": {
    "name": "ipython",
    "version": 2
   },
   "file_extension": ".py",
   "mimetype": "text/x-python",
   "name": "python",
   "nbconvert_exporter": "python",
   "pygments_lexer": "ipython2",
   "version": "2.7.6"
  }
 },
 "nbformat": 4,
 "nbformat_minor": 5
}
