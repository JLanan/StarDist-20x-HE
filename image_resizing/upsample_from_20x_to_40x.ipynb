{
 "cells": [
  {
   "cell_type": "code",
   "execution_count": 44,
   "id": "initial_id",
   "metadata": {
    "collapsed": true,
    "ExecuteTime": {
     "end_time": "2024-03-21T07:49:08.647358100Z",
     "start_time": "2024-03-21T07:49:08.635855200Z"
    }
   },
   "outputs": [],
   "source": [
    "from skimage.transform import rescale\n",
    "from skimage.io import imread, imsave\n",
    "from tqdm import tqdm\n",
    "import os\n",
    "import numpy as np"
   ]
  },
  {
   "cell_type": "code",
   "execution_count": 45,
   "outputs": [],
   "source": [
    "path_20x_dn = r\"\\\\10.99.68.53\\Digital pathology image lib\\_Image libraries for training\\2023-05-09 Published HE Nuclei Datasets\\20x Downsampled\"\n",
    "path_40x_up = r\"\\\\10.99.68.53\\Digital pathology image lib\\_Image libraries for training\\2023-05-09 Published HE Nuclei Datasets\\40x Upsampled\""
   ],
   "metadata": {
    "collapsed": false,
    "ExecuteTime": {
     "end_time": "2024-03-21T07:49:08.666988700Z",
     "start_time": "2024-03-21T07:49:08.647358100Z"
    }
   },
   "id": "97cec42cf822f321"
  },
  {
   "cell_type": "code",
   "execution_count": 46,
   "outputs": [],
   "source": [
    "orders_down = ['0 - Nearest Neighbor', '1 - Bilinear', '2 - Bicubic']\n",
    "orders_up = ['00 - Nearest Neighbor - Nearest Neighbor',\n",
    "             '01 - Nearest Neighbor - Bilinear',\n",
    "             '02 - Nearest Neighbor - Bicubic',\n",
    "             '10 - Bilinear - Nearest Neighbor',\n",
    "             '11 - Bilinear - Bilinear',\n",
    "             '12 - Bilinear - Bicubic',\n",
    "             '20 - Bicubic - Nearest Neighbor',\n",
    "             '21 - Bicubic - Bilinear',\n",
    "             '22 - Bicubic - Bicubic']\n",
    "datasets = ['CoNSeP', 'CryoNuSeg', 'MoNuSeg', 'TNBC']"
   ],
   "metadata": {
    "collapsed": false,
    "ExecuteTime": {
     "end_time": "2024-03-21T07:49:08.678991700Z",
     "start_time": "2024-03-21T07:49:08.662984800Z"
    }
   },
   "id": "1d0af4f3c6e0b357"
  },
  {
   "cell_type": "code",
   "execution_count": 47,
   "outputs": [
    {
     "name": "stderr",
     "output_type": "stream",
     "text": [
      "100%|██████████| 9/9 [06:51<00:00, 45.71s/it]\n",
      "100%|██████████| 9/9 [06:21<00:00, 42.44s/it]\n",
      "100%|██████████| 9/9 [06:27<00:00, 43.03s/it]\n"
     ]
    }
   ],
   "source": [
    "for od in orders_down:\n",
    "    for ou in tqdm(orders_up):\n",
    "    # for ou in [orders_up[1]]:\n",
    "        for dataset in datasets:\n",
    "        # for dataset in [datasets[0]]:\n",
    "            path_20x_imgs = os.path.join(os.path.join(path_20x_dn, od), dataset + r\"\\images\")\n",
    "            path_20x_msks = os.path.join(os.path.join(path_20x_dn, od), dataset + r\"\\masks\")\n",
    "            path_40x_imgs = os.path.join(os.path.join(path_40x_up, ou), dataset + r\"\\images\")\n",
    "            path_40x_msks = os.path.join(os.path.join(path_40x_up, ou), dataset + r\"\\masks\")\n",
    "            for filename in os.listdir(path_20x_imgs):\n",
    "                if filename.endswith('.tif'):\n",
    "                    order = eval(ou[1])\n",
    "                    img = imread(os.path.join(path_20x_imgs, filename))\n",
    "                    msk = imread(os.path.join(path_20x_msks, filename))\n",
    "                    img = rescale(img, 2, order=order, channel_axis=2)\n",
    "                    msk = rescale(msk, 2, order=0)\n",
    "                    if order > 0:\n",
    "                        img = (img * 255).astype(np.uint8)\n",
    "                    imsave(os.path.join(path_40x_imgs, filename), img)\n",
    "                    imsave(os.path.join(path_40x_msks, filename), msk, check_contrast=False)\n"
   ],
   "metadata": {
    "collapsed": false,
    "ExecuteTime": {
     "end_time": "2024-03-21T08:08:49.257914200Z",
     "start_time": "2024-03-21T07:49:08.678991700Z"
    }
   },
   "id": "50a3ec592d3c7add"
  },
  {
   "cell_type": "code",
   "execution_count": 48,
   "outputs": [],
   "source": [
    "path_20x = r\"\\\\10.99.68.53\\Digital pathology image lib\\_Image libraries for training\\2023-05-09 Published HE Nuclei Datasets\\20x Native\\JHU\"\n",
    "path_40x_up = r\"\\\\10.99.68.53\\Digital pathology image lib\\_Image libraries for training\\2023-05-09 Published HE Nuclei Datasets\\40x Upsampled\"\n",
    "path_20x_imgs = os.path.join(path_20x, 'images')\n",
    "path_20x_msks = os.path.join(path_20x, 'masks')"
   ],
   "metadata": {
    "collapsed": false,
    "ExecuteTime": {
     "end_time": "2024-03-21T08:08:49.273635800Z",
     "start_time": "2024-03-21T08:08:49.260917400Z"
    }
   },
   "id": "9491bdd44308d673"
  },
  {
   "cell_type": "code",
   "execution_count": 49,
   "outputs": [],
   "source": [
    "orders_up = ['_0 - 20x Native - Nearest Neighbor',\n",
    "             '_1 - 20x Native - Bilinear',\n",
    "             '_2 - 20x Native - Bicubic']"
   ],
   "metadata": {
    "collapsed": false,
    "ExecuteTime": {
     "end_time": "2024-03-21T08:08:49.289261300Z",
     "start_time": "2024-03-21T08:08:49.273635800Z"
    }
   },
   "id": "b7293a21fd984871"
  },
  {
   "cell_type": "code",
   "execution_count": 50,
   "outputs": [
    {
     "name": "stderr",
     "output_type": "stream",
     "text": [
      "100%|██████████| 3/3 [00:27<00:00,  9.17s/it]\n"
     ]
    }
   ],
   "source": [
    "for ou in tqdm(orders_up):\n",
    "    path_40x_imgs = os.path.join(os.path.join(path_40x_up, ou), r\"JHU\\images\")\n",
    "    path_40x_msks = os.path.join(os.path.join(path_40x_up, ou), r\"JHU\\masks\")\n",
    "    for filename in os.listdir(path_20x_imgs):\n",
    "        if filename.endswith('.tif'):\n",
    "            order = eval(ou[1])\n",
    "            img = imread(os.path.join(path_20x_imgs, filename))\n",
    "            msk = imread(os.path.join(path_20x_msks, filename))\n",
    "            img = rescale(img, 2, order=order, channel_axis=2)\n",
    "            msk = rescale(msk, 2, order=0)\n",
    "            if order > 0:\n",
    "                img = (img * 255).astype(np.uint8)\n",
    "            imsave(os.path.join(path_40x_imgs, filename), img)\n",
    "            imsave(os.path.join(path_40x_msks, filename), msk, check_contrast=False)"
   ],
   "metadata": {
    "collapsed": false,
    "ExecuteTime": {
     "end_time": "2024-03-21T08:09:16.818063900Z",
     "start_time": "2024-03-21T08:08:49.292263400Z"
    }
   },
   "id": "8eb9042319e2903c"
  }
 ],
 "metadata": {
  "kernelspec": {
   "display_name": "Python 3",
   "language": "python",
   "name": "python3"
  },
  "language_info": {
   "codemirror_mode": {
    "name": "ipython",
    "version": 2
   },
   "file_extension": ".py",
   "mimetype": "text/x-python",
   "name": "python",
   "nbconvert_exporter": "python",
   "pygments_lexer": "ipython2",
   "version": "2.7.6"
  }
 },
 "nbformat": 4,
 "nbformat_minor": 5
}
